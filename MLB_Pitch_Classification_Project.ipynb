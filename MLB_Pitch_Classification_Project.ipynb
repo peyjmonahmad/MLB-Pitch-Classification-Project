{
 "cells": [
  {
   "cell_type": "code",
   "execution_count": 2,
   "metadata": {
    "collapsed": true
   },
   "outputs": [],
   "source": [
    "import pandas as pd\n",
    "import numpy as np\n",
    "import matplotlib.pyplot as plt\n",
    "import seaborn as sns"
   ]
  },
  {
   "cell_type": "code",
   "execution_count": 3,
   "metadata": {},
   "outputs": [
    {
     "name": "stdout",
     "output_type": "stream",
     "text": [
      "/Users/peyjmonahmad/Downloads\n"
     ]
    }
   ],
   "source": [
    "cd Downloads"
   ]
  },
  {
   "cell_type": "markdown",
   "metadata": {},
   "source": [
    "# Pitch classification"
   ]
  },
  {
   "cell_type": "code",
   "execution_count": 4,
   "metadata": {},
   "outputs": [
    {
     "name": "stderr",
     "output_type": "stream",
     "text": [
      "/Users/peyjmonahmad/anaconda3/lib/python3.6/site-packages/IPython/core/interactiveshell.py:2698: DtypeWarning: Columns (29,30) have mixed types. Specify dtype option on import or set low_memory=False.\n",
      "  interactivity=interactivity, compiler=compiler, result=result)\n"
     ]
    }
   ],
   "source": [
    "df = pd.read_csv('pitches')"
   ]
  },
  {
   "cell_type": "code",
   "execution_count": 5,
   "metadata": {},
   "outputs": [
    {
     "data": {
      "text/html": [
       "<div>\n",
       "<style>\n",
       "    .dataframe thead tr:only-child th {\n",
       "        text-align: right;\n",
       "    }\n",
       "\n",
       "    .dataframe thead th {\n",
       "        text-align: left;\n",
       "    }\n",
       "\n",
       "    .dataframe tbody tr th {\n",
       "        vertical-align: top;\n",
       "    }\n",
       "</style>\n",
       "<table border=\"1\" class=\"dataframe\">\n",
       "  <thead>\n",
       "    <tr style=\"text-align: right;\">\n",
       "      <th></th>\n",
       "      <th>uid</th>\n",
       "      <th>game_pk</th>\n",
       "      <th>year</th>\n",
       "      <th>date</th>\n",
       "      <th>team_id_b</th>\n",
       "      <th>team_id_p</th>\n",
       "      <th>inning</th>\n",
       "      <th>top</th>\n",
       "      <th>at_bat_num</th>\n",
       "      <th>pcount_at_bat</th>\n",
       "      <th>...</th>\n",
       "      <th>runner7_start</th>\n",
       "      <th>runner7_end</th>\n",
       "      <th>runner7_event</th>\n",
       "      <th>runner7_score</th>\n",
       "      <th>runner7_rbi</th>\n",
       "      <th>runner7_earned</th>\n",
       "      <th>created_at</th>\n",
       "      <th>added_at</th>\n",
       "      <th>modified_at</th>\n",
       "      <th>modified_by</th>\n",
       "    </tr>\n",
       "  </thead>\n",
       "  <tbody>\n",
       "    <tr>\n",
       "      <th>0</th>\n",
       "      <td>14143226</td>\n",
       "      <td>286874</td>\n",
       "      <td>2011</td>\n",
       "      <td>2011-03-31</td>\n",
       "      <td>108</td>\n",
       "      <td>118</td>\n",
       "      <td>1</td>\n",
       "      <td>1</td>\n",
       "      <td>1</td>\n",
       "      <td>1</td>\n",
       "      <td>...</td>\n",
       "      <td>NaN</td>\n",
       "      <td>NaN</td>\n",
       "      <td>NaN</td>\n",
       "      <td>NaN</td>\n",
       "      <td>NaN</td>\n",
       "      <td>NaN</td>\n",
       "      <td>2016-03-03 21:33:20</td>\n",
       "      <td>2016-03-03 21:33:20</td>\n",
       "      <td>2016-03-03 21:33:20</td>\n",
       "      <td>1</td>\n",
       "    </tr>\n",
       "    <tr>\n",
       "      <th>1</th>\n",
       "      <td>14143227</td>\n",
       "      <td>286874</td>\n",
       "      <td>2011</td>\n",
       "      <td>2011-03-31</td>\n",
       "      <td>108</td>\n",
       "      <td>118</td>\n",
       "      <td>1</td>\n",
       "      <td>1</td>\n",
       "      <td>1</td>\n",
       "      <td>2</td>\n",
       "      <td>...</td>\n",
       "      <td>NaN</td>\n",
       "      <td>NaN</td>\n",
       "      <td>NaN</td>\n",
       "      <td>NaN</td>\n",
       "      <td>NaN</td>\n",
       "      <td>NaN</td>\n",
       "      <td>2016-03-03 21:33:20</td>\n",
       "      <td>2016-03-03 21:33:20</td>\n",
       "      <td>2016-03-03 21:33:20</td>\n",
       "      <td>1</td>\n",
       "    </tr>\n",
       "    <tr>\n",
       "      <th>2</th>\n",
       "      <td>14143228</td>\n",
       "      <td>286874</td>\n",
       "      <td>2011</td>\n",
       "      <td>2011-03-31</td>\n",
       "      <td>108</td>\n",
       "      <td>118</td>\n",
       "      <td>1</td>\n",
       "      <td>1</td>\n",
       "      <td>1</td>\n",
       "      <td>3</td>\n",
       "      <td>...</td>\n",
       "      <td>NaN</td>\n",
       "      <td>NaN</td>\n",
       "      <td>NaN</td>\n",
       "      <td>NaN</td>\n",
       "      <td>NaN</td>\n",
       "      <td>NaN</td>\n",
       "      <td>2016-03-03 21:33:20</td>\n",
       "      <td>2016-03-03 21:33:20</td>\n",
       "      <td>2016-03-03 21:33:20</td>\n",
       "      <td>1</td>\n",
       "    </tr>\n",
       "    <tr>\n",
       "      <th>3</th>\n",
       "      <td>14143229</td>\n",
       "      <td>286874</td>\n",
       "      <td>2011</td>\n",
       "      <td>2011-03-31</td>\n",
       "      <td>108</td>\n",
       "      <td>118</td>\n",
       "      <td>1</td>\n",
       "      <td>1</td>\n",
       "      <td>1</td>\n",
       "      <td>4</td>\n",
       "      <td>...</td>\n",
       "      <td>NaN</td>\n",
       "      <td>NaN</td>\n",
       "      <td>NaN</td>\n",
       "      <td>NaN</td>\n",
       "      <td>NaN</td>\n",
       "      <td>NaN</td>\n",
       "      <td>2016-03-03 21:33:20</td>\n",
       "      <td>2016-03-03 21:33:20</td>\n",
       "      <td>2016-03-03 21:33:20</td>\n",
       "      <td>1</td>\n",
       "    </tr>\n",
       "    <tr>\n",
       "      <th>4</th>\n",
       "      <td>14143230</td>\n",
       "      <td>286874</td>\n",
       "      <td>2011</td>\n",
       "      <td>2011-03-31</td>\n",
       "      <td>108</td>\n",
       "      <td>118</td>\n",
       "      <td>1</td>\n",
       "      <td>1</td>\n",
       "      <td>2</td>\n",
       "      <td>1</td>\n",
       "      <td>...</td>\n",
       "      <td>NaN</td>\n",
       "      <td>NaN</td>\n",
       "      <td>NaN</td>\n",
       "      <td>NaN</td>\n",
       "      <td>NaN</td>\n",
       "      <td>NaN</td>\n",
       "      <td>2016-03-03 21:33:20</td>\n",
       "      <td>2016-03-03 21:33:20</td>\n",
       "      <td>2016-03-03 21:33:20</td>\n",
       "      <td>1</td>\n",
       "    </tr>\n",
       "  </tbody>\n",
       "</table>\n",
       "<p>5 rows × 125 columns</p>\n",
       "</div>"
      ],
      "text/plain": [
       "        uid  game_pk  year        date  team_id_b  team_id_p  inning  top  \\\n",
       "0  14143226   286874  2011  2011-03-31        108        118       1    1   \n",
       "1  14143227   286874  2011  2011-03-31        108        118       1    1   \n",
       "2  14143228   286874  2011  2011-03-31        108        118       1    1   \n",
       "3  14143229   286874  2011  2011-03-31        108        118       1    1   \n",
       "4  14143230   286874  2011  2011-03-31        108        118       1    1   \n",
       "\n",
       "   at_bat_num  pcount_at_bat     ...       runner7_start  runner7_end  \\\n",
       "0           1              1     ...                 NaN          NaN   \n",
       "1           1              2     ...                 NaN          NaN   \n",
       "2           1              3     ...                 NaN          NaN   \n",
       "3           1              4     ...                 NaN          NaN   \n",
       "4           2              1     ...                 NaN          NaN   \n",
       "\n",
       "   runner7_event  runner7_score  runner7_rbi  runner7_earned  \\\n",
       "0            NaN            NaN          NaN             NaN   \n",
       "1            NaN            NaN          NaN             NaN   \n",
       "2            NaN            NaN          NaN             NaN   \n",
       "3            NaN            NaN          NaN             NaN   \n",
       "4            NaN            NaN          NaN             NaN   \n",
       "\n",
       "            created_at             added_at          modified_at  modified_by  \n",
       "0  2016-03-03 21:33:20  2016-03-03 21:33:20  2016-03-03 21:33:20            1  \n",
       "1  2016-03-03 21:33:20  2016-03-03 21:33:20  2016-03-03 21:33:20            1  \n",
       "2  2016-03-03 21:33:20  2016-03-03 21:33:20  2016-03-03 21:33:20            1  \n",
       "3  2016-03-03 21:33:20  2016-03-03 21:33:20  2016-03-03 21:33:20            1  \n",
       "4  2016-03-03 21:33:20  2016-03-03 21:33:20  2016-03-03 21:33:20            1  \n",
       "\n",
       "[5 rows x 125 columns]"
      ]
     },
     "execution_count": 5,
     "metadata": {},
     "output_type": "execute_result"
    }
   ],
   "source": [
    "df.head()"
   ]
  },
  {
   "cell_type": "code",
   "execution_count": 6,
   "metadata": {
    "scrolled": true
   },
   "outputs": [
    {
     "data": {
      "text/plain": [
       "Index(['uid', 'game_pk', 'year', 'date', 'team_id_b', 'team_id_p', 'inning',\n",
       "       'top', 'at_bat_num', 'pcount_at_bat',\n",
       "       ...\n",
       "       'runner7_start', 'runner7_end', 'runner7_event', 'runner7_score',\n",
       "       'runner7_rbi', 'runner7_earned', 'created_at', 'added_at',\n",
       "       'modified_at', 'modified_by'],\n",
       "      dtype='object', length=125)"
      ]
     },
     "execution_count": 6,
     "metadata": {},
     "output_type": "execute_result"
    }
   ],
   "source": [
    "df.columns"
   ]
  },
  {
   "cell_type": "markdown",
   "metadata": {},
   "source": [
    "Before it's time to build and evaluate models, we will perform some exploratory data analysis to get a better understanding of the data that we're working with."
   ]
  },
  {
   "cell_type": "code",
   "execution_count": 7,
   "metadata": {},
   "outputs": [
    {
     "name": "stdout",
     "output_type": "stream",
     "text": [
      "<class 'pandas.core.frame.DataFrame'>\n",
      "RangeIndex: 718961 entries, 0 to 718960\n",
      "Columns: 125 entries, uid to modified_by\n",
      "dtypes: float64(80), int64(25), object(20)\n",
      "memory usage: 685.7+ MB\n"
     ]
    }
   ],
   "source": [
    "df.info()"
   ]
  },
  {
   "cell_type": "code",
   "execution_count": 8,
   "metadata": {},
   "outputs": [
    {
     "data": {
      "text/html": [
       "<div>\n",
       "<style>\n",
       "    .dataframe thead tr:only-child th {\n",
       "        text-align: right;\n",
       "    }\n",
       "\n",
       "    .dataframe thead th {\n",
       "        text-align: left;\n",
       "    }\n",
       "\n",
       "    .dataframe tbody tr th {\n",
       "        vertical-align: top;\n",
       "    }\n",
       "</style>\n",
       "<table border=\"1\" class=\"dataframe\">\n",
       "  <thead>\n",
       "    <tr style=\"text-align: right;\">\n",
       "      <th></th>\n",
       "      <th>uid</th>\n",
       "      <th>game_pk</th>\n",
       "      <th>year</th>\n",
       "      <th>team_id_b</th>\n",
       "      <th>team_id_p</th>\n",
       "      <th>inning</th>\n",
       "      <th>top</th>\n",
       "      <th>at_bat_num</th>\n",
       "      <th>pcount_at_bat</th>\n",
       "      <th>pcount_pitcher</th>\n",
       "      <th>...</th>\n",
       "      <th>runner6_rbi</th>\n",
       "      <th>runner6_earned</th>\n",
       "      <th>runner7_id</th>\n",
       "      <th>runner7_start</th>\n",
       "      <th>runner7_end</th>\n",
       "      <th>runner7_event</th>\n",
       "      <th>runner7_score</th>\n",
       "      <th>runner7_rbi</th>\n",
       "      <th>runner7_earned</th>\n",
       "      <th>modified_by</th>\n",
       "    </tr>\n",
       "  </thead>\n",
       "  <tbody>\n",
       "    <tr>\n",
       "      <th>count</th>\n",
       "      <td>7.189610e+05</td>\n",
       "      <td>718961.000000</td>\n",
       "      <td>718961.0</td>\n",
       "      <td>718961.000000</td>\n",
       "      <td>718961.000000</td>\n",
       "      <td>718961.000000</td>\n",
       "      <td>718961.000000</td>\n",
       "      <td>718961.000000</td>\n",
       "      <td>718961.000000</td>\n",
       "      <td>718961.000000</td>\n",
       "      <td>...</td>\n",
       "      <td>0.0</td>\n",
       "      <td>0.0</td>\n",
       "      <td>0.0</td>\n",
       "      <td>0.0</td>\n",
       "      <td>0.0</td>\n",
       "      <td>0.0</td>\n",
       "      <td>0.0</td>\n",
       "      <td>0.0</td>\n",
       "      <td>0.0</td>\n",
       "      <td>718961.0</td>\n",
       "    </tr>\n",
       "    <tr>\n",
       "      <th>mean</th>\n",
       "      <td>1.701980e+07</td>\n",
       "      <td>288557.611823</td>\n",
       "      <td>2011.0</td>\n",
       "      <td>128.787182</td>\n",
       "      <td>128.757296</td>\n",
       "      <td>5.033796</td>\n",
       "      <td>0.508900</td>\n",
       "      <td>39.301513</td>\n",
       "      <td>2.865276</td>\n",
       "      <td>37.357196</td>\n",
       "      <td>...</td>\n",
       "      <td>NaN</td>\n",
       "      <td>NaN</td>\n",
       "      <td>NaN</td>\n",
       "      <td>NaN</td>\n",
       "      <td>NaN</td>\n",
       "      <td>NaN</td>\n",
       "      <td>NaN</td>\n",
       "      <td>NaN</td>\n",
       "      <td>NaN</td>\n",
       "      <td>1.0</td>\n",
       "    </tr>\n",
       "    <tr>\n",
       "      <th>std</th>\n",
       "      <td>1.665143e+06</td>\n",
       "      <td>3642.210956</td>\n",
       "      <td>0.0</td>\n",
       "      <td>14.281039</td>\n",
       "      <td>14.306711</td>\n",
       "      <td>2.692326</td>\n",
       "      <td>0.499921</td>\n",
       "      <td>23.320725</td>\n",
       "      <td>1.715068</td>\n",
       "      <td>30.690569</td>\n",
       "      <td>...</td>\n",
       "      <td>NaN</td>\n",
       "      <td>NaN</td>\n",
       "      <td>NaN</td>\n",
       "      <td>NaN</td>\n",
       "      <td>NaN</td>\n",
       "      <td>NaN</td>\n",
       "      <td>NaN</td>\n",
       "      <td>NaN</td>\n",
       "      <td>NaN</td>\n",
       "      <td>0.0</td>\n",
       "    </tr>\n",
       "    <tr>\n",
       "      <th>min</th>\n",
       "      <td>1.414323e+07</td>\n",
       "      <td>286874.000000</td>\n",
       "      <td>2011.0</td>\n",
       "      <td>108.000000</td>\n",
       "      <td>108.000000</td>\n",
       "      <td>1.000000</td>\n",
       "      <td>0.000000</td>\n",
       "      <td>1.000000</td>\n",
       "      <td>1.000000</td>\n",
       "      <td>1.000000</td>\n",
       "      <td>...</td>\n",
       "      <td>NaN</td>\n",
       "      <td>NaN</td>\n",
       "      <td>NaN</td>\n",
       "      <td>NaN</td>\n",
       "      <td>NaN</td>\n",
       "      <td>NaN</td>\n",
       "      <td>NaN</td>\n",
       "      <td>NaN</td>\n",
       "      <td>NaN</td>\n",
       "      <td>1.0</td>\n",
       "    </tr>\n",
       "    <tr>\n",
       "      <th>25%</th>\n",
       "      <td>1.557356e+07</td>\n",
       "      <td>287507.000000</td>\n",
       "      <td>2011.0</td>\n",
       "      <td>115.000000</td>\n",
       "      <td>115.000000</td>\n",
       "      <td>3.000000</td>\n",
       "      <td>0.000000</td>\n",
       "      <td>19.000000</td>\n",
       "      <td>1.000000</td>\n",
       "      <td>11.000000</td>\n",
       "      <td>...</td>\n",
       "      <td>NaN</td>\n",
       "      <td>NaN</td>\n",
       "      <td>NaN</td>\n",
       "      <td>NaN</td>\n",
       "      <td>NaN</td>\n",
       "      <td>NaN</td>\n",
       "      <td>NaN</td>\n",
       "      <td>NaN</td>\n",
       "      <td>NaN</td>\n",
       "      <td>1.0</td>\n",
       "    </tr>\n",
       "    <tr>\n",
       "      <th>50%</th>\n",
       "      <td>1.703106e+07</td>\n",
       "      <td>288129.000000</td>\n",
       "      <td>2011.0</td>\n",
       "      <td>134.000000</td>\n",
       "      <td>134.000000</td>\n",
       "      <td>5.000000</td>\n",
       "      <td>1.000000</td>\n",
       "      <td>39.000000</td>\n",
       "      <td>3.000000</td>\n",
       "      <td>28.000000</td>\n",
       "      <td>...</td>\n",
       "      <td>NaN</td>\n",
       "      <td>NaN</td>\n",
       "      <td>NaN</td>\n",
       "      <td>NaN</td>\n",
       "      <td>NaN</td>\n",
       "      <td>NaN</td>\n",
       "      <td>NaN</td>\n",
       "      <td>NaN</td>\n",
       "      <td>NaN</td>\n",
       "      <td>1.0</td>\n",
       "    </tr>\n",
       "    <tr>\n",
       "      <th>75%</th>\n",
       "      <td>1.845894e+07</td>\n",
       "      <td>288749.000000</td>\n",
       "      <td>2011.0</td>\n",
       "      <td>141.000000</td>\n",
       "      <td>141.000000</td>\n",
       "      <td>7.000000</td>\n",
       "      <td>1.000000</td>\n",
       "      <td>58.000000</td>\n",
       "      <td>4.000000</td>\n",
       "      <td>61.000000</td>\n",
       "      <td>...</td>\n",
       "      <td>NaN</td>\n",
       "      <td>NaN</td>\n",
       "      <td>NaN</td>\n",
       "      <td>NaN</td>\n",
       "      <td>NaN</td>\n",
       "      <td>NaN</td>\n",
       "      <td>NaN</td>\n",
       "      <td>NaN</td>\n",
       "      <td>NaN</td>\n",
       "      <td>1.0</td>\n",
       "    </tr>\n",
       "    <tr>\n",
       "      <th>max</th>\n",
       "      <td>1.983820e+07</td>\n",
       "      <td>317073.000000</td>\n",
       "      <td>2011.0</td>\n",
       "      <td>158.000000</td>\n",
       "      <td>158.000000</td>\n",
       "      <td>19.000000</td>\n",
       "      <td>1.000000</td>\n",
       "      <td>158.000000</td>\n",
       "      <td>16.000000</td>\n",
       "      <td>133.000000</td>\n",
       "      <td>...</td>\n",
       "      <td>NaN</td>\n",
       "      <td>NaN</td>\n",
       "      <td>NaN</td>\n",
       "      <td>NaN</td>\n",
       "      <td>NaN</td>\n",
       "      <td>NaN</td>\n",
       "      <td>NaN</td>\n",
       "      <td>NaN</td>\n",
       "      <td>NaN</td>\n",
       "      <td>1.0</td>\n",
       "    </tr>\n",
       "  </tbody>\n",
       "</table>\n",
       "<p>8 rows × 105 columns</p>\n",
       "</div>"
      ],
      "text/plain": [
       "                uid        game_pk      year      team_id_b      team_id_p  \\\n",
       "count  7.189610e+05  718961.000000  718961.0  718961.000000  718961.000000   \n",
       "mean   1.701980e+07  288557.611823    2011.0     128.787182     128.757296   \n",
       "std    1.665143e+06    3642.210956       0.0      14.281039      14.306711   \n",
       "min    1.414323e+07  286874.000000    2011.0     108.000000     108.000000   \n",
       "25%    1.557356e+07  287507.000000    2011.0     115.000000     115.000000   \n",
       "50%    1.703106e+07  288129.000000    2011.0     134.000000     134.000000   \n",
       "75%    1.845894e+07  288749.000000    2011.0     141.000000     141.000000   \n",
       "max    1.983820e+07  317073.000000    2011.0     158.000000     158.000000   \n",
       "\n",
       "              inning            top     at_bat_num  pcount_at_bat  \\\n",
       "count  718961.000000  718961.000000  718961.000000  718961.000000   \n",
       "mean        5.033796       0.508900      39.301513       2.865276   \n",
       "std         2.692326       0.499921      23.320725       1.715068   \n",
       "min         1.000000       0.000000       1.000000       1.000000   \n",
       "25%         3.000000       0.000000      19.000000       1.000000   \n",
       "50%         5.000000       1.000000      39.000000       3.000000   \n",
       "75%         7.000000       1.000000      58.000000       4.000000   \n",
       "max        19.000000       1.000000     158.000000      16.000000   \n",
       "\n",
       "       pcount_pitcher     ...       runner6_rbi  runner6_earned  runner7_id  \\\n",
       "count   718961.000000     ...               0.0             0.0         0.0   \n",
       "mean        37.357196     ...               NaN             NaN         NaN   \n",
       "std         30.690569     ...               NaN             NaN         NaN   \n",
       "min          1.000000     ...               NaN             NaN         NaN   \n",
       "25%         11.000000     ...               NaN             NaN         NaN   \n",
       "50%         28.000000     ...               NaN             NaN         NaN   \n",
       "75%         61.000000     ...               NaN             NaN         NaN   \n",
       "max        133.000000     ...               NaN             NaN         NaN   \n",
       "\n",
       "       runner7_start  runner7_end  runner7_event  runner7_score  runner7_rbi  \\\n",
       "count            0.0          0.0            0.0            0.0          0.0   \n",
       "mean             NaN          NaN            NaN            NaN          NaN   \n",
       "std              NaN          NaN            NaN            NaN          NaN   \n",
       "min              NaN          NaN            NaN            NaN          NaN   \n",
       "25%              NaN          NaN            NaN            NaN          NaN   \n",
       "50%              NaN          NaN            NaN            NaN          NaN   \n",
       "75%              NaN          NaN            NaN            NaN          NaN   \n",
       "max              NaN          NaN            NaN            NaN          NaN   \n",
       "\n",
       "       runner7_earned  modified_by  \n",
       "count             0.0     718961.0  \n",
       "mean              NaN          1.0  \n",
       "std               NaN          0.0  \n",
       "min               NaN          1.0  \n",
       "25%               NaN          1.0  \n",
       "50%               NaN          1.0  \n",
       "75%               NaN          1.0  \n",
       "max               NaN          1.0  \n",
       "\n",
       "[8 rows x 105 columns]"
      ]
     },
     "execution_count": 8,
     "metadata": {},
     "output_type": "execute_result"
    }
   ],
   "source": [
    "df.describe()"
   ]
  },
  {
   "cell_type": "markdown",
   "metadata": {},
   "source": [
    "## Dealing with missing data"
   ]
  },
  {
   "cell_type": "markdown",
   "metadata": {},
   "source": [
    "Right away, it is apparent that runner (1-7) columns have no data stored in their columns.  In this case, they should be dropped.  Each runner has an id, rbi, start, end, event, score, rbi, and earned column, but nothing there."
   ]
  },
  {
   "cell_type": "code",
   "execution_count": 9,
   "metadata": {},
   "outputs": [
    {
     "data": {
      "text/plain": [
       "718961"
      ]
     },
     "execution_count": 9,
     "metadata": {},
     "output_type": "execute_result"
    }
   ],
   "source": [
    "# Check total null vals for column\n",
    "df['runner1_start'].isnull().sum()"
   ]
  },
  {
   "cell_type": "code",
   "execution_count": 10,
   "metadata": {},
   "outputs": [
    {
     "data": {
      "text/plain": [
       "0"
      ]
     },
     "execution_count": 10,
     "metadata": {},
     "output_type": "execute_result"
    }
   ],
   "source": [
    "# Total non-nulls for column\n",
    "df['runner1_start'].notnull().sum()"
   ]
  },
  {
   "cell_type": "code",
   "execution_count": 11,
   "metadata": {
    "collapsed": true
   },
   "outputs": [],
   "source": [
    "# No data is associated with any of these columns.\n",
    "df.drop(['runner1_id','runner1_start','runner1_end','runner1_event','runner1_score','runner1_rbi','runner1_earned',\n",
    "         'runner2_id','runner2_start','runner2_end','runner2_event','runner2_score','runner2_rbi','runner2_earned',\n",
    "         'runner3_id','runner3_start','runner3_end','runner3_event','runner3_score','runner3_rbi','runner3_earned',\n",
    "         'runner4_id','runner4_start','runner4_end','runner4_event','runner4_score','runner4_rbi','runner4_earned',\n",
    "         'runner5_id','runner5_start','runner5_end','runner5_event','runner5_score','runner5_rbi','runner5_earned',\n",
    "         'runner6_id','runner6_start','runner6_end','runner6_event','runner6_score','runner6_rbi','runner6_earned',\n",
    "         'runner7_id','runner7_start','runner7_end','runner7_event','runner7_score','runner7_rbi','runner7_earned'\n",
    "        ],axis=1,inplace=True)"
   ]
  },
  {
   "cell_type": "markdown",
   "metadata": {},
   "source": [
    "Every single value of the 'modified by' column is 1, so there is no benefit of including this.  We can safely drop it."
   ]
  },
  {
   "cell_type": "code",
   "execution_count": 12,
   "metadata": {
    "collapsed": true
   },
   "outputs": [],
   "source": [
    "df.drop(['modified_by'],axis=1,inplace=True)"
   ]
  },
  {
   "cell_type": "code",
   "execution_count": 13,
   "metadata": {},
   "outputs": [
    {
     "name": "stdout",
     "output_type": "stream",
     "text": [
      "<class 'pandas.core.frame.DataFrame'>\n",
      "RangeIndex: 718961 entries, 0 to 718960\n",
      "Data columns (total 75 columns):\n",
      "uid                718961 non-null int64\n",
      "game_pk            718961 non-null int64\n",
      "year               718961 non-null int64\n",
      "date               718961 non-null object\n",
      "team_id_b          718961 non-null int64\n",
      "team_id_p          718961 non-null int64\n",
      "inning             718961 non-null int64\n",
      "top                718961 non-null int64\n",
      "at_bat_num         718961 non-null int64\n",
      "pcount_at_bat      718961 non-null int64\n",
      "pcount_pitcher     718961 non-null int64\n",
      "balls              718961 non-null int64\n",
      "strikes            718961 non-null int64\n",
      "fouls              718961 non-null int64\n",
      "outs               718961 non-null int64\n",
      "is_final_pitch     718961 non-null int64\n",
      "final_balls        718961 non-null int64\n",
      "final_strikes      718961 non-null int64\n",
      "final_outs         718961 non-null int64\n",
      "start_tfs          718961 non-null int64\n",
      "start_tfs_zulu     718961 non-null object\n",
      "batter_id          718961 non-null int64\n",
      "stand              718961 non-null object\n",
      "b_height           718961 non-null object\n",
      "pitcher_id         718961 non-null int64\n",
      "p_throws           718961 non-null object\n",
      "at_bat_des         718961 non-null object\n",
      "event              718961 non-null object\n",
      "event2             8299 non-null object\n",
      "event3             334 non-null object\n",
      "event4             23 non-null object\n",
      "away_team_runs     718961 non-null int64\n",
      "home_team_runs     718961 non-null int64\n",
      "score              56096 non-null object\n",
      "pitch_des          718961 non-null object\n",
      "pitch_id           718961 non-null int64\n",
      "type               718961 non-null object\n",
      "pitch_tfs          718659 non-null float64\n",
      "pitch_tfs_zulu     718659 non-null object\n",
      "x                  718961 non-null float64\n",
      "y                  718961 non-null float64\n",
      "sv_id              716681 non-null object\n",
      "start_speed        716681 non-null float64\n",
      "end_speed          716681 non-null float64\n",
      "sz_top             716681 non-null float64\n",
      "sz_bot             716681 non-null float64\n",
      "pfx_x              716681 non-null float64\n",
      "pfx_z              716681 non-null float64\n",
      "px                 716681 non-null float64\n",
      "pz                 716681 non-null float64\n",
      "x0                 716681 non-null float64\n",
      "z0                 716681 non-null float64\n",
      "y0                 716681 non-null float64\n",
      "vx0                716681 non-null float64\n",
      "vz0                716681 non-null float64\n",
      "vy0                716681 non-null float64\n",
      "ax                 716681 non-null float64\n",
      "az                 716681 non-null float64\n",
      "ay                 716681 non-null float64\n",
      "break_length       716681 non-null float64\n",
      "break_y            716681 non-null float64\n",
      "break_angle        716681 non-null float64\n",
      "pitch_type         716681 non-null object\n",
      "type_confidence    716681 non-null float64\n",
      "zone               716681 non-null float64\n",
      "nasty              716681 non-null float64\n",
      "spin_dir           716681 non-null float64\n",
      "spin_rate          716681 non-null float64\n",
      "cc                 27937 non-null object\n",
      "on_1b              216323 non-null float64\n",
      "on_2b              139703 non-null float64\n",
      "on_3b              71635 non-null float64\n",
      "created_at         718961 non-null object\n",
      "added_at           718961 non-null object\n",
      "modified_at        718961 non-null object\n",
      "dtypes: float64(31), int64(24), object(20)\n",
      "memory usage: 411.4+ MB\n"
     ]
    }
   ],
   "source": [
    "# Check the updated info and head after drops.\n",
    "df.info()"
   ]
  },
  {
   "cell_type": "markdown",
   "metadata": {},
   "source": [
    "Most columns have no null values, except for a few.  The columns that stand out as potential drop candidates are 'event2', 'event3', 'event4', 'cc', 'on_1b', 'on_2b', 'on_3b', and the score column.  Let's check them out."
   ]
  },
  {
   "cell_type": "code",
   "execution_count": 14,
   "metadata": {},
   "outputs": [
    {
     "data": {
      "text/plain": [
       "Error                   2640\n",
       "Runner Out              2250\n",
       "Stolen Base 2B          1296\n",
       "Caught Stealing 2B       771\n",
       "Wild Pitch               705\n",
       "Stolen Base 3B           329\n",
       "Passed Ball              132\n",
       "Caught Stealing 3B       117\n",
       "Stolen Base Home          18\n",
       "Pickoff 1B                11\n",
       "Caught Stealing Home      11\n",
       "Pickoff 3B                10\n",
       "Pickoff Error 2B           5\n",
       "Pickoff Error 1B           4\n",
       "Name: event2, dtype: int64"
      ]
     },
     "execution_count": 14,
     "metadata": {},
     "output_type": "execute_result"
    }
   ],
   "source": [
    "# Checking the values look like for the events.\n",
    "df['event2'].value_counts()"
   ]
  },
  {
   "cell_type": "code",
   "execution_count": 15,
   "metadata": {},
   "outputs": [
    {
     "data": {
      "text/plain": [
       "Error             158\n",
       "Stolen Base 2B    128\n",
       "Runner Out         27\n",
       "Wild Pitch         15\n",
       "Passed Ball         6\n",
       "Name: event3, dtype: int64"
      ]
     },
     "execution_count": 15,
     "metadata": {},
     "output_type": "execute_result"
    }
   ],
   "source": [
    "df['event3'].value_counts()"
   ]
  },
  {
   "cell_type": "code",
   "execution_count": 16,
   "metadata": {},
   "outputs": [
    {
     "data": {
      "text/plain": [
       "Error    23\n",
       "Name: event4, dtype: int64"
      ]
     },
     "execution_count": 16,
     "metadata": {},
     "output_type": "execute_result"
    }
   ],
   "source": [
    "df['event4'].value_counts()"
   ]
  },
  {
   "cell_type": "markdown",
   "metadata": {},
   "source": [
    "These event columns might have some minor usage, but there's too many null values to have any real impact.  These will be dropped."
   ]
  },
  {
   "cell_type": "code",
   "execution_count": 17,
   "metadata": {
    "collapsed": true
   },
   "outputs": [],
   "source": [
    "df.drop(['event2','event3','event4'],axis=1,inplace=True)"
   ]
  },
  {
   "cell_type": "code",
   "execution_count": 18,
   "metadata": {
    "scrolled": true
   },
   "outputs": [
    {
     "data": {
      "text/plain": [
       "|pitcher| has his out pitch working today, recording all 4 of his strikeouts with the slider so far.                                                      58\n",
       "Justin Masterson is having trouble locating his sinker, missing the strike zone with his last three.                                                      24\n",
       "Charlie Morton is having trouble locating his two-seam fastball, missing the strike zone with his last three.                                             23\n",
       "Ervin Santana is having trouble locating his four-seam fastball, missing the strike zone with his last three.                                             22\n",
       "Clayton Kershaw is having trouble locating his four-seam fastball, missing the strike zone with his last three.                                           21\n",
       "R.A. Dickey is having trouble locating his knuckleball, missing the strike zone with his last three.                                                      21\n",
       "Aroldis Chapman is having trouble locating his four-seam fastball, missing the strike zone with his last three.                                           19\n",
       "A.J. Burnett showed faith in Russell Martin by throwing that knuckle curve in the dirt with a runner on 3rd.                                              18\n",
       "Max Scherzer is having trouble locating his four-seam fastball, missing the strike zone with his last three.                                              18\n",
       "Trevor Cahill is having trouble locating his sinker, missing the strike zone with his last three.                                                         18\n",
       "Mike Pelfrey is having trouble locating his sinker, missing the strike zone with his last three.                                                          17\n",
       "Derek Holland is having trouble locating his sinker, missing the strike zone with his last three.                                                         17\n",
       "Jake Westbrook is having trouble locating his sinker, missing the strike zone with his last three.                                                        17\n",
       "Jhoulys Chacin is having trouble locating his four-seam fastball, missing the strike zone with his last three.                                            15\n",
       "Nick Blackburn is having trouble locating his two-seam fastball, missing the strike zone with his last three.                                             15\n",
       "Brandon Morrow is having trouble locating his four-seam fastball, missing the strike zone with his last three.                                            15\n",
       "Alexi Ogando is having trouble locating his four-seam fastball, missing the strike zone with his last three.                                              14\n",
       "Colby Lewis is having trouble locating his four-seam fastball, missing the strike zone with his last three.                                               14\n",
       "Tim Hudson is having trouble locating his sinker, missing the strike zone with his last three.                                                            14\n",
       "Chris Carpenter is having trouble locating his sinker, missing the strike zone with his last three.                                                       13\n",
       "Zack Greinke showed faith in Jonathan Lucroy by throwing that slider in the dirt with a runner on 3rd.                                                    13\n",
       "Justin Verlander is having trouble locating his four-seam fastball, missing the strike zone with his last three.                                          13\n",
       "James McDonald is having trouble locating his four-seam fastball, missing the strike zone with his last three.                                            13\n",
       "Roberto Hernandez is having trouble locating his sinker, missing the strike zone with his last three.                                                     13\n",
       "J.A. Happ is having trouble locating his four-seam fastball, missing the strike zone with his last three.                                                 13\n",
       "Ivan Nova is having trouble locating his four-seam fastball, missing the strike zone with his last three.                                                 13\n",
       "Josh Beckett is having trouble locating his four-seam fastball, missing the strike zone with his last three.                                              12\n",
       "Jeremy Hellickson is having trouble locating his four-seam fastball, missing the strike zone with his last three.                                         12\n",
       "Michael Pineda is having trouble locating his four-seam fastball, missing the strike zone with his last three.                                            12\n",
       "Jonathan Sanchez is having trouble locating his four-seam fastball, missing the strike zone with his last three.                                          12\n",
       "                                                                                                                                                          ..\n",
       "Chris Perez had Melky Cabrera down 0-2 but could not put him away.                                                                                         1\n",
       "Aaron Crow showed faith in Manny Pina by throwing that slider in the dirt with a runner on 3rd.                                                            1\n",
       "Dangerous count for Jake Peavy; Joe Mauer is a dead-red fastball hitter, with a .805 OPS against them this season and .694 against everything else.        1\n",
       "Chris Carpenter got Darwin Barney to chase a four-seam fastball; Barney is hitting .000 against them in that location this season compared to .287 ove     1\n",
       "Lance Cormier is trying to tie up Chase Headley with fastballs inside; Headley is hitting 1.000 on pitches in that location compared to .269 overall.      1\n",
       "James McDonald has thrown 80 pitches but has plenty left in the tank, with his fastball sitting at 94 over the past 10 pitches.                            1\n",
       "That was pitch number 75 for Edwin Jackson; his effectiveness may start slipping, as he holds opposing hitters to a .313 average in the first 75 pitch     1\n",
       "Jeff Karstens battled back from 3-0 to retire Aaron Hill.                                                                                                  1\n",
       "Roy Oswalt had Brian McCann down 0-2 but could not put him away.                                                                                           1\n",
       "Jeff Karstens had Jeff Keppinger down 0-2 but could not put him away.                                                                                      1\n",
       "Dangerous count for Kevin Gregg; Denard Span is a dead-red fastball hitter, with a .926 OPS against them this season and .818 against everything else.     1\n",
       "Ubaldo Jimenez had Freddy Sanchez down 0-2 but could not put him away.                                                                                     1\n",
       "Jered Weaver had Dioner Navarro down 0-2 but could not put him away.                                                                                       1\n",
       "Dangerous count for J.A. Happ; Albert Pujols is a dead-red fastball hitter, with a .902 OPS against them this season and .833 against everything else.     1\n",
       "Gio Gonzalez has Marlins batters hitting the ball into the ground so far, getting 6 of his 13 outs on grounders.                                           1\n",
       "Gavin Floyd may be running out of gas after 77 pitches; his fastball has dropped from a high of 94 to as low as 84.                                        1\n",
       "Dangerous count for Randy Wells; Danny Espinosa is a dead-red fastball hitter, with a .961 OPS against them this season and .807 against everything el     1\n",
       "Justin Masterson may be running out of gas after 78 pitches; his fastball has dropped from a high of 96 to as low as 88.                                   1\n",
       "Edgmer Escalona got Bryan Petersen to chase a four-seam fastball; Petersen is hitting .000 against them in that location this season compared to .247      1\n",
       "Joakim Soria may prefer to go after Brendan Ryan, whose OPS is .634 this season, with the curveball rather than facing Dustin Ackley, whose OPS is .82     1\n",
       "Michael Stutes may prefer to go after Fred Lewis, whose OPS is .647 this season, with the four-seam fastball rather than facing Brandon Phillips, whos     1\n",
       "That was pitch number 75 for Joe Saunders; his effectiveness may start slipping, as he holds opposing hitters to a .282 average in the first 75 pitche     1\n",
       "That was pitch number 15 for Rafael Soriano; his effectiveness may start slipping, as he holds opposing hitters to a .229 average in the first 15 pitc     1\n",
       "Max Scherzer battled back from 3-0 to retire Brett Gardner.                                                                                                1\n",
       "Jeff Francis may be running out of gas after 74 pitches; his fastball has dropped from a high of 87 to as low as 81.                                       1\n",
       "That was pitch number 45 for Madison Bumgarner; his effectiveness may start slipping, as he holds opposing hitters to a .233 average in the first 45 p     1\n",
       "Ryan Dempster got Brett Myers to chase a slider; Myers is hitting .333 against them in that location this season compared to .128 overall.                 1\n",
       "Jaime Garcia may prefer to go after Angel Pagan, whose OPS is .698 this season, with the cutter rather than facing David Wright, whose OPS is .788.        1\n",
       "That was pitch number 45 for Anibal Sanchez; his effectiveness may start slipping, as he holds opposing hitters to a .221 average in the first 45 pitc     1\n",
       "C.J. Wilson had Ramon Santiago down 0-2 but could not put him away.                                                                                        1\n",
       "Name: cc, Length: 23292, dtype: int64"
      ]
     },
     "execution_count": 18,
     "metadata": {},
     "output_type": "execute_result"
    }
   ],
   "source": [
    "df['cc'].value_counts()"
   ]
  },
  {
   "cell_type": "markdown",
   "metadata": {},
   "source": [
    "This descriptive column will have no use for this analysis. "
   ]
  },
  {
   "cell_type": "code",
   "execution_count": 19,
   "metadata": {
    "collapsed": true
   },
   "outputs": [],
   "source": [
    "df.drop(['cc'],axis=1,inplace=True)"
   ]
  },
  {
   "cell_type": "code",
   "execution_count": 20,
   "metadata": {},
   "outputs": [
    {
     "data": {
      "text/plain": [
       "0    Maicer Izturis grounds out, second baseman Chr...\n",
       "1    Maicer Izturis grounds out, second baseman Chr...\n",
       "2    Maicer Izturis grounds out, second baseman Chr...\n",
       "3    Maicer Izturis grounds out, second baseman Chr...\n",
       "4    Howie Kendrick doubles (1) on a line drive to ...\n",
       "Name: at_bat_des, dtype: object"
      ]
     },
     "execution_count": 20,
     "metadata": {},
     "output_type": "execute_result"
    }
   ],
   "source": [
    "df['at_bat_des'].head()"
   ]
  },
  {
   "cell_type": "code",
   "execution_count": 21,
   "metadata": {
    "collapsed": true
   },
   "outputs": [],
   "source": [
    "# At_bat_des is also a descriptive column that is better off dropped.\n",
    "df.drop(['at_bat_des'],axis=1,inplace=True)"
   ]
  },
  {
   "cell_type": "markdown",
   "metadata": {},
   "source": [
    "Just a few more columns to check as potential drop candidates."
   ]
  },
  {
   "cell_type": "code",
   "execution_count": 22,
   "metadata": {},
   "outputs": [
    {
     "data": {
      "text/plain": [
       "425902.0    1195\n",
       "408236.0    1115\n",
       "408234.0    1092\n",
       "458015.0    1053\n",
       "276545.0    1035\n",
       "430832.0    1029\n",
       "116539.0    1001\n",
       "456030.0     990\n",
       "400085.0     990\n",
       "430897.0     969\n",
       "400121.0     964\n",
       "204020.0     962\n",
       "453056.0     948\n",
       "450314.0     925\n",
       "334393.0     917\n",
       "452254.0     906\n",
       "516770.0     896\n",
       "405395.0     893\n",
       "455976.0     877\n",
       "117244.0     876\n",
       "425773.0     874\n",
       "488862.0     868\n",
       "456422.0     863\n",
       "429664.0     863\n",
       "457705.0     856\n",
       "434158.0     855\n",
       "435522.0     854\n",
       "408252.0     848\n",
       "133380.0     847\n",
       "120074.0     847\n",
       "            ... \n",
       "502154.0       3\n",
       "407842.0       3\n",
       "435044.0       3\n",
       "448306.0       3\n",
       "493337.0       3\n",
       "488674.0       3\n",
       "425426.0       3\n",
       "475416.0       3\n",
       "543819.0       3\n",
       "150277.0       3\n",
       "408241.0       3\n",
       "407871.0       2\n",
       "457744.0       2\n",
       "445968.0       2\n",
       "110683.0       2\n",
       "518655.0       2\n",
       "518500.0       2\n",
       "435298.0       2\n",
       "217096.0       2\n",
       "456662.0       2\n",
       "468396.0       2\n",
       "430957.0       2\n",
       "488846.0       2\n",
       "425856.0       2\n",
       "457915.0       1\n",
       "407853.0       1\n",
       "489334.0       1\n",
       "501822.0       1\n",
       "460024.0       1\n",
       "460069.0       1\n",
       "Name: on_1b, Length: 809, dtype: int64"
      ]
     },
     "execution_count": 22,
     "metadata": {},
     "output_type": "execute_result"
    }
   ],
   "source": [
    "df['on_1b'].value_counts()"
   ]
  },
  {
   "cell_type": "markdown",
   "metadata": {},
   "source": [
    "The three 'on base' columns are tricky, because their are a lot of nulls and the values associated are player ID's.  A player on base could be valuable data for predicting types of pitches, but we don't want the player ID's to have a numerical effect.\n",
    "\n",
    "All non-null (player on base) values will be converted to 1, while null values (empty bases) will be converted to 0. "
   ]
  },
  {
   "cell_type": "code",
   "execution_count": 23,
   "metadata": {
    "collapsed": true
   },
   "outputs": [],
   "source": [
    "# All non-null values replaced with 1, all null values replaced with 0\n",
    "df['on_1b'] = df['on_1b'].notnull().astype('int')\n",
    "df['on_2b'] = df['on_2b'].notnull().astype('int')\n",
    "df['on_3b'] = df['on_3b'].notnull().astype('int')"
   ]
  },
  {
   "cell_type": "code",
   "execution_count": 24,
   "metadata": {},
   "outputs": [
    {
     "data": {
      "text/plain": [
       "0    502638\n",
       "1    216323\n",
       "Name: on_1b, dtype: int64"
      ]
     },
     "execution_count": 24,
     "metadata": {},
     "output_type": "execute_result"
    }
   ],
   "source": [
    "df['on_1b'].value_counts()"
   ]
  },
  {
   "cell_type": "code",
   "execution_count": 25,
   "metadata": {},
   "outputs": [
    {
     "data": {
      "text/plain": [
       "0    579258\n",
       "1    139703\n",
       "Name: on_2b, dtype: int64"
      ]
     },
     "execution_count": 25,
     "metadata": {},
     "output_type": "execute_result"
    }
   ],
   "source": [
    "df['on_2b'].value_counts()"
   ]
  },
  {
   "cell_type": "markdown",
   "metadata": {},
   "source": [
    "The same step will be taken for the \"score\" column, as many values are null.  \n",
    "The column value will be 1 if a run was scored at this bat, and 0 if no run was scored."
   ]
  },
  {
   "cell_type": "code",
   "execution_count": 26,
   "metadata": {
    "collapsed": true
   },
   "outputs": [],
   "source": [
    "df['score'] = df['score'].notnull().astype('int')"
   ]
  },
  {
   "cell_type": "code",
   "execution_count": 27,
   "metadata": {},
   "outputs": [
    {
     "data": {
      "text/plain": [
       "0    662865\n",
       "1     56096\n",
       "Name: score, dtype: int64"
      ]
     },
     "execution_count": 27,
     "metadata": {},
     "output_type": "execute_result"
    }
   ],
   "source": [
    "df['score'].value_counts()"
   ]
  },
  {
   "cell_type": "markdown",
   "metadata": {},
   "source": [
    "Now that most null columns are taken care, we can move forward."
   ]
  },
  {
   "cell_type": "markdown",
   "metadata": {},
   "source": [
    "## Exploratory Data Analysis"
   ]
  },
  {
   "cell_type": "markdown",
   "metadata": {},
   "source": [
    "The goal of this analysis is to accurately predict the type of pitch, given on all the other features.  Let's take our first look at our target variable (pitch_type)."
   ]
  },
  {
   "cell_type": "code",
   "execution_count": 28,
   "metadata": {},
   "outputs": [
    {
     "data": {
      "text/plain": [
       "FF    238541\n",
       "SL    109756\n",
       "SI     87740\n",
       "FT     81056\n",
       "CH     72641\n",
       "CU     56379\n",
       "FC     41702\n",
       "FS     10503\n",
       "KC      8490\n",
       "KN      4450\n",
       "IN      4058\n",
       "PO       559\n",
       "FO       329\n",
       "FA       204\n",
       "EP       134\n",
       "SC       120\n",
       "UN        17\n",
       "AB         2\n",
       "Name: pitch_type, dtype: int64"
      ]
     },
     "execution_count": 28,
     "metadata": {},
     "output_type": "execute_result"
    }
   ],
   "source": [
    "df['pitch_type'].value_counts()"
   ]
  },
  {
   "cell_type": "markdown",
   "metadata": {},
   "source": [
    "The most common type of pitch is the four-seam fastball (FF).  Which also has more than double the occurences of the second most frequent pitch, the slider (SL).  To get a better idea of the abbreviation for different types of pitches, we can take a look at the images below."
   ]
  },
  {
   "attachments": {
    "Screen%20Shot%202019-01-31%20at%209.36.24%20PM.png": {
     "image/png": "[encoded data removed]"
    }
   },
   "cell_type": "markdown",
   "metadata": {},
   "source": [
    "![Screen%20Shot%202019-01-31%20at%209.36.24%20PM.png](attachment:Screen%20Shot%202019-01-31%20at%209.36.24%20PM.png)"
   ]
  },
  {
   "attachments": {
    "Screen%20Shot%202019-01-31%20at%209.36.36%20PM.png": {
     "image/png": "[encoded data removed]"
    }
   },
   "cell_type": "markdown",
   "metadata": {},
   "source": [
    "![Screen%20Shot%202019-01-31%20at%209.36.36%20PM.png](attachment:Screen%20Shot%202019-01-31%20at%209.36.36%20PM.png)"
   ]
  },
  {
   "attachments": {
    "Screen%20Shot%202019-01-31%20at%209.37.06%20PM.png": {
     "image/png": "[encoded data removed]"
    }
   },
   "cell_type": "markdown",
   "metadata": {},
   "source": [
    "![Screen%20Shot%202019-01-31%20at%209.37.06%20PM.png](attachment:Screen%20Shot%202019-01-31%20at%209.37.06%20PM.png)"
   ]
  },
  {
   "cell_type": "markdown",
   "metadata": {},
   "source": [
    "Let's plot the distribution of pitch types now."
   ]
  },
  {
   "cell_type": "code",
   "execution_count": 29,
   "metadata": {},
   "outputs": [
    {
     "data": {
      "image/png": "[encoded data removed]",
      "text/plain": [
       "<Figure size 432x288 with 1 Axes>"
      ]
     },
     "metadata": {},
     "output_type": "display_data"
    }
   ],
   "source": [
    "# Plotting the distribution of different pitches\n",
    "df['pitch_type'].value_counts().plot('bar',title='Pitch types')\n",
    "plt.show()"
   ]
  },
  {
   "cell_type": "markdown",
   "metadata": {},
   "source": [
    "It also appears that many columns in the bottom half, including the target column, have a couple thousand null values."
   ]
  },
  {
   "cell_type": "code",
   "execution_count": 30,
   "metadata": {},
   "outputs": [
    {
     "data": {
      "text/plain": [
       "2280"
      ]
     },
     "execution_count": 30,
     "metadata": {},
     "output_type": "execute_result"
    }
   ],
   "source": [
    "df['pitch_type'].isnull().sum()"
   ]
  },
  {
   "cell_type": "markdown",
   "metadata": {},
   "source": [
    "Null values for the target variable must be removed, as that will just cause issues with making predictions.  Also note that with the excess of data at hand, removing these values should not have a negative impact."
   ]
  },
  {
   "cell_type": "code",
   "execution_count": 31,
   "metadata": {
    "collapsed": true
   },
   "outputs": [],
   "source": [
    "df = df.dropna(subset=['pitch_type'])"
   ]
  },
  {
   "cell_type": "code",
   "execution_count": 32,
   "metadata": {},
   "outputs": [
    {
     "data": {
      "text/plain": [
       "0"
      ]
     },
     "execution_count": 32,
     "metadata": {},
     "output_type": "execute_result"
    }
   ],
   "source": [
    "df['pitch_type'].isnull().sum()"
   ]
  },
  {
   "cell_type": "code",
   "execution_count": 33,
   "metadata": {},
   "outputs": [
    {
     "data": {
      "text/plain": [
       "716681"
      ]
     },
     "execution_count": 33,
     "metadata": {},
     "output_type": "execute_result"
    }
   ],
   "source": [
    "len(df)"
   ]
  },
  {
   "cell_type": "markdown",
   "metadata": {},
   "source": [
    "There are many numeric columns in the 20-40 range that could have some real impact on predictions, let's convert this subset of columns to it's own dataframe and compare some of them."
   ]
  },
  {
   "cell_type": "code",
   "execution_count": 34,
   "metadata": {
    "collapsed": true
   },
   "outputs": [],
   "source": [
    "nums_df = df.iloc[:,36:59]"
   ]
  },
  {
   "cell_type": "code",
   "execution_count": 35,
   "metadata": {},
   "outputs": [
    {
     "data": {
      "text/html": [
       "<div>\n",
       "<style>\n",
       "    .dataframe thead tr:only-child th {\n",
       "        text-align: right;\n",
       "    }\n",
       "\n",
       "    .dataframe thead th {\n",
       "        text-align: left;\n",
       "    }\n",
       "\n",
       "    .dataframe tbody tr th {\n",
       "        vertical-align: top;\n",
       "    }\n",
       "</style>\n",
       "<table border=\"1\" class=\"dataframe\">\n",
       "  <thead>\n",
       "    <tr style=\"text-align: right;\">\n",
       "      <th></th>\n",
       "      <th>y</th>\n",
       "      <th>start_speed</th>\n",
       "      <th>end_speed</th>\n",
       "      <th>sz_top</th>\n",
       "      <th>sz_bot</th>\n",
       "      <th>pfx_x</th>\n",
       "      <th>pfx_z</th>\n",
       "      <th>px</th>\n",
       "      <th>pz</th>\n",
       "      <th>x0</th>\n",
       "      <th>...</th>\n",
       "      <th>y0</th>\n",
       "      <th>vx0</th>\n",
       "      <th>vz0</th>\n",
       "      <th>vy0</th>\n",
       "      <th>ax</th>\n",
       "      <th>az</th>\n",
       "      <th>ay</th>\n",
       "      <th>break_length</th>\n",
       "      <th>break_y</th>\n",
       "      <th>break_angle</th>\n",
       "    </tr>\n",
       "  </thead>\n",
       "  <tbody>\n",
       "    <tr>\n",
       "      <th>count</th>\n",
       "      <td>716681.000000</td>\n",
       "      <td>716681.000000</td>\n",
       "      <td>716681.000000</td>\n",
       "      <td>716681.000000</td>\n",
       "      <td>716681.000000</td>\n",
       "      <td>716681.000000</td>\n",
       "      <td>716681.000000</td>\n",
       "      <td>716681.000000</td>\n",
       "      <td>716681.000000</td>\n",
       "      <td>716681.000000</td>\n",
       "      <td>...</td>\n",
       "      <td>716681.0</td>\n",
       "      <td>716681.000000</td>\n",
       "      <td>716681.000000</td>\n",
       "      <td>716681.000000</td>\n",
       "      <td>716681.000000</td>\n",
       "      <td>716681.000000</td>\n",
       "      <td>716681.000000</td>\n",
       "      <td>716681.000000</td>\n",
       "      <td>716681.000000</td>\n",
       "      <td>716681.000000</td>\n",
       "    </tr>\n",
       "    <tr>\n",
       "      <th>mean</th>\n",
       "      <td>147.857376</td>\n",
       "      <td>87.362028</td>\n",
       "      <td>80.612666</td>\n",
       "      <td>3.398461</td>\n",
       "      <td>1.600354</td>\n",
       "      <td>-0.863183</td>\n",
       "      <td>4.767071</td>\n",
       "      <td>-0.062566</td>\n",
       "      <td>2.367194</td>\n",
       "      <td>-0.798869</td>\n",
       "      <td>...</td>\n",
       "      <td>50.0</td>\n",
       "      <td>2.204512</td>\n",
       "      <td>-4.202271</td>\n",
       "      <td>-127.875684</td>\n",
       "      <td>-1.818262</td>\n",
       "      <td>-23.389043</td>\n",
       "      <td>26.821424</td>\n",
       "      <td>6.755535</td>\n",
       "      <td>23.803143</td>\n",
       "      <td>4.086515</td>\n",
       "    </tr>\n",
       "    <tr>\n",
       "      <th>std</th>\n",
       "      <td>21.661838</td>\n",
       "      <td>6.153273</td>\n",
       "      <td>5.515286</td>\n",
       "      <td>0.206579</td>\n",
       "      <td>0.136247</td>\n",
       "      <td>6.322141</td>\n",
       "      <td>5.329747</td>\n",
       "      <td>0.956427</td>\n",
       "      <td>0.919507</td>\n",
       "      <td>1.703180</td>\n",
       "      <td>...</td>\n",
       "      <td>0.0</td>\n",
       "      <td>5.877975</td>\n",
       "      <td>3.100750</td>\n",
       "      <td>8.955758</td>\n",
       "      <td>10.613403</td>\n",
       "      <td>8.853820</td>\n",
       "      <td>4.521354</td>\n",
       "      <td>2.975481</td>\n",
       "      <td>0.072111</td>\n",
       "      <td>23.418248</td>\n",
       "    </tr>\n",
       "    <tr>\n",
       "      <th>min</th>\n",
       "      <td>0.000000</td>\n",
       "      <td>39.900000</td>\n",
       "      <td>38.000000</td>\n",
       "      <td>0.000000</td>\n",
       "      <td>0.000000</td>\n",
       "      <td>-21.640000</td>\n",
       "      <td>-26.190000</td>\n",
       "      <td>-8.857000</td>\n",
       "      <td>-3.027000</td>\n",
       "      <td>-5.811000</td>\n",
       "      <td>...</td>\n",
       "      <td>50.0</td>\n",
       "      <td>-20.963000</td>\n",
       "      <td>-18.657000</td>\n",
       "      <td>-150.573000</td>\n",
       "      <td>-34.903000</td>\n",
       "      <td>-70.144000</td>\n",
       "      <td>0.576000</td>\n",
       "      <td>0.200000</td>\n",
       "      <td>22.800000</td>\n",
       "      <td>-88.300000</td>\n",
       "    </tr>\n",
       "    <tr>\n",
       "      <th>25%</th>\n",
       "      <td>134.700000</td>\n",
       "      <td>83.500000</td>\n",
       "      <td>77.300000</td>\n",
       "      <td>3.260000</td>\n",
       "      <td>1.510000</td>\n",
       "      <td>-6.160000</td>\n",
       "      <td>1.850000</td>\n",
       "      <td>-0.680000</td>\n",
       "      <td>1.785000</td>\n",
       "      <td>-2.042000</td>\n",
       "      <td>...</td>\n",
       "      <td>50.0</td>\n",
       "      <td>-2.069000</td>\n",
       "      <td>-6.312000</td>\n",
       "      <td>-134.650000</td>\n",
       "      <td>-10.572000</td>\n",
       "      <td>-29.205000</td>\n",
       "      <td>23.574000</td>\n",
       "      <td>4.500000</td>\n",
       "      <td>23.800000</td>\n",
       "      <td>-12.500000</td>\n",
       "    </tr>\n",
       "    <tr>\n",
       "      <th>50%</th>\n",
       "      <td>147.650000</td>\n",
       "      <td>88.800000</td>\n",
       "      <td>81.900000</td>\n",
       "      <td>3.400000</td>\n",
       "      <td>1.600000</td>\n",
       "      <td>-1.660000</td>\n",
       "      <td>5.810000</td>\n",
       "      <td>-0.053000</td>\n",
       "      <td>2.369000</td>\n",
       "      <td>-1.390000</td>\n",
       "      <td>...</td>\n",
       "      <td>50.0</td>\n",
       "      <td>3.796000</td>\n",
       "      <td>-4.407000</td>\n",
       "      <td>-129.960000</td>\n",
       "      <td>-2.734000</td>\n",
       "      <td>-22.252000</td>\n",
       "      <td>26.776000</td>\n",
       "      <td>6.200000</td>\n",
       "      <td>23.800000</td>\n",
       "      <td>5.600000</td>\n",
       "    </tr>\n",
       "    <tr>\n",
       "      <th>75%</th>\n",
       "      <td>161.470000</td>\n",
       "      <td>92.000000</td>\n",
       "      <td>84.700000</td>\n",
       "      <td>3.540000</td>\n",
       "      <td>1.690000</td>\n",
       "      <td>4.170000</td>\n",
       "      <td>8.710000</td>\n",
       "      <td>0.561000</td>\n",
       "      <td>2.946000</td>\n",
       "      <td>0.638000</td>\n",
       "      <td>...</td>\n",
       "      <td>50.0</td>\n",
       "      <td>6.505000</td>\n",
       "      <td>-2.314000</td>\n",
       "      <td>-122.253000</td>\n",
       "      <td>6.380000</td>\n",
       "      <td>-16.510000</td>\n",
       "      <td>29.979000</td>\n",
       "      <td>8.200000</td>\n",
       "      <td>23.800000</td>\n",
       "      <td>23.900000</td>\n",
       "    </tr>\n",
       "    <tr>\n",
       "      <th>max</th>\n",
       "      <td>213.270000</td>\n",
       "      <td>103.400000</td>\n",
       "      <td>95.900000</td>\n",
       "      <td>4.310000</td>\n",
       "      <td>3.150000</td>\n",
       "      <td>25.060000</td>\n",
       "      <td>23.470000</td>\n",
       "      <td>8.814000</td>\n",
       "      <td>7.967000</td>\n",
       "      <td>9.446000</td>\n",
       "      <td>...</td>\n",
       "      <td>50.0</td>\n",
       "      <td>22.085000</td>\n",
       "      <td>12.507000</td>\n",
       "      <td>-58.178000</td>\n",
       "      <td>46.219000</td>\n",
       "      <td>6.562000</td>\n",
       "      <td>86.197000</td>\n",
       "      <td>34.100000</td>\n",
       "      <td>24.300000</td>\n",
       "      <td>269.200000</td>\n",
       "    </tr>\n",
       "  </tbody>\n",
       "</table>\n",
       "<p>8 rows × 21 columns</p>\n",
       "</div>"
      ],
      "text/plain": [
       "                   y    start_speed      end_speed         sz_top  \\\n",
       "count  716681.000000  716681.000000  716681.000000  716681.000000   \n",
       "mean      147.857376      87.362028      80.612666       3.398461   \n",
       "std        21.661838       6.153273       5.515286       0.206579   \n",
       "min         0.000000      39.900000      38.000000       0.000000   \n",
       "25%       134.700000      83.500000      77.300000       3.260000   \n",
       "50%       147.650000      88.800000      81.900000       3.400000   \n",
       "75%       161.470000      92.000000      84.700000       3.540000   \n",
       "max       213.270000     103.400000      95.900000       4.310000   \n",
       "\n",
       "              sz_bot          pfx_x          pfx_z             px  \\\n",
       "count  716681.000000  716681.000000  716681.000000  716681.000000   \n",
       "mean        1.600354      -0.863183       4.767071      -0.062566   \n",
       "std         0.136247       6.322141       5.329747       0.956427   \n",
       "min         0.000000     -21.640000     -26.190000      -8.857000   \n",
       "25%         1.510000      -6.160000       1.850000      -0.680000   \n",
       "50%         1.600000      -1.660000       5.810000      -0.053000   \n",
       "75%         1.690000       4.170000       8.710000       0.561000   \n",
       "max         3.150000      25.060000      23.470000       8.814000   \n",
       "\n",
       "                  pz             x0      ...              y0            vx0  \\\n",
       "count  716681.000000  716681.000000      ...        716681.0  716681.000000   \n",
       "mean        2.367194      -0.798869      ...            50.0       2.204512   \n",
       "std         0.919507       1.703180      ...             0.0       5.877975   \n",
       "min        -3.027000      -5.811000      ...            50.0     -20.963000   \n",
       "25%         1.785000      -2.042000      ...            50.0      -2.069000   \n",
       "50%         2.369000      -1.390000      ...            50.0       3.796000   \n",
       "75%         2.946000       0.638000      ...            50.0       6.505000   \n",
       "max         7.967000       9.446000      ...            50.0      22.085000   \n",
       "\n",
       "                 vz0            vy0             ax             az  \\\n",
       "count  716681.000000  716681.000000  716681.000000  716681.000000   \n",
       "mean       -4.202271    -127.875684      -1.818262     -23.389043   \n",
       "std         3.100750       8.955758      10.613403       8.853820   \n",
       "min       -18.657000    -150.573000     -34.903000     -70.144000   \n",
       "25%        -6.312000    -134.650000     -10.572000     -29.205000   \n",
       "50%        -4.407000    -129.960000      -2.734000     -22.252000   \n",
       "75%        -2.314000    -122.253000       6.380000     -16.510000   \n",
       "max        12.507000     -58.178000      46.219000       6.562000   \n",
       "\n",
       "                  ay   break_length        break_y    break_angle  \n",
       "count  716681.000000  716681.000000  716681.000000  716681.000000  \n",
       "mean       26.821424       6.755535      23.803143       4.086515  \n",
       "std         4.521354       2.975481       0.072111      23.418248  \n",
       "min         0.576000       0.200000      22.800000     -88.300000  \n",
       "25%        23.574000       4.500000      23.800000     -12.500000  \n",
       "50%        26.776000       6.200000      23.800000       5.600000  \n",
       "75%        29.979000       8.200000      23.800000      23.900000  \n",
       "max        86.197000      34.100000      24.300000     269.200000  \n",
       "\n",
       "[8 rows x 21 columns]"
      ]
     },
     "execution_count": 35,
     "metadata": {},
     "output_type": "execute_result"
    }
   ],
   "source": [
    "nums_df.describe()"
   ]
  },
  {
   "cell_type": "markdown",
   "metadata": {},
   "source": [
    "It will be interesting to see the correlation between these numbers, and observe which variables increase together, as well as observe the variables that have no relation with eachother."
   ]
  },
  {
   "cell_type": "code",
   "execution_count": 127,
   "metadata": {
    "collapsed": true
   },
   "outputs": [],
   "source": [
    "# Generate correlation between numerical variables\n",
    "corr = nums_df.corr()"
   ]
  },
  {
   "cell_type": "code",
   "execution_count": 128,
   "metadata": {},
   "outputs": [
    {
     "data": {
      "text/html": [
       "<div>\n",
       "<style>\n",
       "    .dataframe thead tr:only-child th {\n",
       "        text-align: right;\n",
       "    }\n",
       "\n",
       "    .dataframe thead th {\n",
       "        text-align: left;\n",
       "    }\n",
       "\n",
       "    .dataframe tbody tr th {\n",
       "        vertical-align: top;\n",
       "    }\n",
       "</style>\n",
       "<table border=\"1\" class=\"dataframe\">\n",
       "  <thead>\n",
       "    <tr style=\"text-align: right;\">\n",
       "      <th></th>\n",
       "      <th>y</th>\n",
       "      <th>start_speed</th>\n",
       "      <th>end_speed</th>\n",
       "      <th>sz_top</th>\n",
       "      <th>sz_bot</th>\n",
       "      <th>pfx_x</th>\n",
       "      <th>pfx_z</th>\n",
       "      <th>px</th>\n",
       "      <th>pz</th>\n",
       "      <th>x0</th>\n",
       "      <th>...</th>\n",
       "      <th>y0</th>\n",
       "      <th>vx0</th>\n",
       "      <th>vz0</th>\n",
       "      <th>vy0</th>\n",
       "      <th>ax</th>\n",
       "      <th>az</th>\n",
       "      <th>ay</th>\n",
       "      <th>break_length</th>\n",
       "      <th>break_y</th>\n",
       "      <th>break_angle</th>\n",
       "    </tr>\n",
       "  </thead>\n",
       "  <tbody>\n",
       "    <tr>\n",
       "      <th>y</th>\n",
       "      <td>1.000000</td>\n",
       "      <td>-0.145145</td>\n",
       "      <td>-0.113384</td>\n",
       "      <td>-0.045656</td>\n",
       "      <td>-0.028220</td>\n",
       "      <td>0.022828</td>\n",
       "      <td>-0.210318</td>\n",
       "      <td>0.114967</td>\n",
       "      <td>-0.953755</td>\n",
       "      <td>0.001868</td>\n",
       "      <td>...</td>\n",
       "      <td>NaN</td>\n",
       "      <td>0.034300</td>\n",
       "      <td>-0.461624</td>\n",
       "      <td>0.152918</td>\n",
       "      <td>0.021349</td>\n",
       "      <td>-0.216688</td>\n",
       "      <td>-0.149722</td>\n",
       "      <td>0.224496</td>\n",
       "      <td>0.209067</td>\n",
       "      <td>-0.028890</td>\n",
       "    </tr>\n",
       "    <tr>\n",
       "      <th>start_speed</th>\n",
       "      <td>-0.145145</td>\n",
       "      <td>1.000000</td>\n",
       "      <td>0.988187</td>\n",
       "      <td>-0.005372</td>\n",
       "      <td>0.008600</td>\n",
       "      <td>-0.266214</td>\n",
       "      <td>0.659021</td>\n",
       "      <td>-0.011997</td>\n",
       "      <td>0.154166</td>\n",
       "      <td>-0.085410</td>\n",
       "      <td>...</td>\n",
       "      <td>NaN</td>\n",
       "      <td>0.169635</td>\n",
       "      <td>-0.567941</td>\n",
       "      <td>-0.999819</td>\n",
       "      <td>-0.262774</td>\n",
       "      <td>0.707924</td>\n",
       "      <td>0.765022</td>\n",
       "      <td>-0.839040</td>\n",
       "      <td>-0.226105</td>\n",
       "      <td>0.249852</td>\n",
       "    </tr>\n",
       "    <tr>\n",
       "      <th>end_speed</th>\n",
       "      <td>-0.113384</td>\n",
       "      <td>0.988187</td>\n",
       "      <td>1.000000</td>\n",
       "      <td>-0.005332</td>\n",
       "      <td>0.009664</td>\n",
       "      <td>-0.260792</td>\n",
       "      <td>0.629286</td>\n",
       "      <td>-0.006782</td>\n",
       "      <td>0.122774</td>\n",
       "      <td>-0.099075</td>\n",
       "      <td>...</td>\n",
       "      <td>NaN</td>\n",
       "      <td>0.179513</td>\n",
       "      <td>-0.579470</td>\n",
       "      <td>-0.988073</td>\n",
       "      <td>-0.257308</td>\n",
       "      <td>0.676797</td>\n",
       "      <td>0.661501</td>\n",
       "      <td>-0.826394</td>\n",
       "      <td>-0.087896</td>\n",
       "      <td>0.243874</td>\n",
       "    </tr>\n",
       "    <tr>\n",
       "      <th>sz_top</th>\n",
       "      <td>-0.045656</td>\n",
       "      <td>-0.005372</td>\n",
       "      <td>-0.005332</td>\n",
       "      <td>1.000000</td>\n",
       "      <td>0.741411</td>\n",
       "      <td>0.002274</td>\n",
       "      <td>0.014476</td>\n",
       "      <td>-0.003003</td>\n",
       "      <td>0.042112</td>\n",
       "      <td>0.015027</td>\n",
       "      <td>...</td>\n",
       "      <td>NaN</td>\n",
       "      <td>-0.013558</td>\n",
       "      <td>0.009181</td>\n",
       "      <td>0.005600</td>\n",
       "      <td>0.004986</td>\n",
       "      <td>0.009906</td>\n",
       "      <td>-0.008316</td>\n",
       "      <td>-0.006784</td>\n",
       "      <td>0.000684</td>\n",
       "      <td>-0.008099</td>\n",
       "    </tr>\n",
       "    <tr>\n",
       "      <th>sz_bot</th>\n",
       "      <td>-0.028220</td>\n",
       "      <td>0.008600</td>\n",
       "      <td>0.009664</td>\n",
       "      <td>0.741411</td>\n",
       "      <td>1.000000</td>\n",
       "      <td>-0.019319</td>\n",
       "      <td>0.012933</td>\n",
       "      <td>-0.025646</td>\n",
       "      <td>0.022819</td>\n",
       "      <td>0.001869</td>\n",
       "      <td>...</td>\n",
       "      <td>NaN</td>\n",
       "      <td>-0.005430</td>\n",
       "      <td>-0.002438</td>\n",
       "      <td>-0.008681</td>\n",
       "      <td>-0.016564</td>\n",
       "      <td>0.009492</td>\n",
       "      <td>0.000107</td>\n",
       "      <td>-0.012424</td>\n",
       "      <td>0.004991</td>\n",
       "      <td>0.013188</td>\n",
       "    </tr>\n",
       "    <tr>\n",
       "      <th>pfx_x</th>\n",
       "      <td>0.022828</td>\n",
       "      <td>-0.266214</td>\n",
       "      <td>-0.260792</td>\n",
       "      <td>0.002274</td>\n",
       "      <td>-0.019319</td>\n",
       "      <td>1.000000</td>\n",
       "      <td>-0.137534</td>\n",
       "      <td>0.175769</td>\n",
       "      <td>-0.023735</td>\n",
       "      <td>0.503788</td>\n",
       "      <td>...</td>\n",
       "      <td>NaN</td>\n",
       "      <td>-0.672477</td>\n",
       "      <td>0.108556</td>\n",
       "      <td>0.266289</td>\n",
       "      <td>0.991338</td>\n",
       "      <td>-0.142057</td>\n",
       "      <td>-0.208872</td>\n",
       "      <td>0.202032</td>\n",
       "      <td>0.075194</td>\n",
       "      <td>-0.945083</td>\n",
       "    </tr>\n",
       "    <tr>\n",
       "      <th>pfx_z</th>\n",
       "      <td>-0.210318</td>\n",
       "      <td>0.659021</td>\n",
       "      <td>0.629286</td>\n",
       "      <td>0.014476</td>\n",
       "      <td>0.012933</td>\n",
       "      <td>-0.137534</td>\n",
       "      <td>1.000000</td>\n",
       "      <td>0.016790</td>\n",
       "      <td>0.228765</td>\n",
       "      <td>0.076117</td>\n",
       "      <td>...</td>\n",
       "      <td>NaN</td>\n",
       "      <td>0.009582</td>\n",
       "      <td>-0.648460</td>\n",
       "      <td>-0.655811</td>\n",
       "      <td>-0.120267</td>\n",
       "      <td>0.986971</td>\n",
       "      <td>0.508608</td>\n",
       "      <td>-0.934547</td>\n",
       "      <td>-0.272803</td>\n",
       "      <td>0.121808</td>\n",
       "    </tr>\n",
       "    <tr>\n",
       "      <th>px</th>\n",
       "      <td>0.114967</td>\n",
       "      <td>-0.011997</td>\n",
       "      <td>-0.006782</td>\n",
       "      <td>-0.003003</td>\n",
       "      <td>-0.025646</td>\n",
       "      <td>0.175769</td>\n",
       "      <td>0.016790</td>\n",
       "      <td>1.000000</td>\n",
       "      <td>-0.123441</td>\n",
       "      <td>0.094070</td>\n",
       "      <td>...</td>\n",
       "      <td>NaN</td>\n",
       "      <td>0.271210</td>\n",
       "      <td>-0.093129</td>\n",
       "      <td>0.016201</td>\n",
       "      <td>0.167153</td>\n",
       "      <td>0.012316</td>\n",
       "      <td>-0.023042</td>\n",
       "      <td>-0.007264</td>\n",
       "      <td>0.032807</td>\n",
       "      <td>-0.176182</td>\n",
       "    </tr>\n",
       "    <tr>\n",
       "      <th>pz</th>\n",
       "      <td>-0.953755</td>\n",
       "      <td>0.154166</td>\n",
       "      <td>0.122774</td>\n",
       "      <td>0.042112</td>\n",
       "      <td>0.022819</td>\n",
       "      <td>-0.023735</td>\n",
       "      <td>0.228765</td>\n",
       "      <td>-0.123441</td>\n",
       "      <td>1.000000</td>\n",
       "      <td>-0.001712</td>\n",
       "      <td>...</td>\n",
       "      <td>NaN</td>\n",
       "      <td>-0.037321</td>\n",
       "      <td>0.477468</td>\n",
       "      <td>-0.162272</td>\n",
       "      <td>-0.022142</td>\n",
       "      <td>0.235035</td>\n",
       "      <td>0.148525</td>\n",
       "      <td>-0.242175</td>\n",
       "      <td>-0.208334</td>\n",
       "      <td>0.030397</td>\n",
       "    </tr>\n",
       "    <tr>\n",
       "      <th>x0</th>\n",
       "      <td>0.001868</td>\n",
       "      <td>-0.085410</td>\n",
       "      <td>-0.099075</td>\n",
       "      <td>0.015027</td>\n",
       "      <td>0.001869</td>\n",
       "      <td>0.503788</td>\n",
       "      <td>0.076117</td>\n",
       "      <td>0.094070</td>\n",
       "      <td>-0.001712</td>\n",
       "      <td>1.000000</td>\n",
       "      <td>...</td>\n",
       "      <td>NaN</td>\n",
       "      <td>-0.874181</td>\n",
       "      <td>-0.039410</td>\n",
       "      <td>0.087359</td>\n",
       "      <td>0.542457</td>\n",
       "      <td>0.066868</td>\n",
       "      <td>-0.031375</td>\n",
       "      <td>0.009171</td>\n",
       "      <td>-0.066287</td>\n",
       "      <td>-0.546024</td>\n",
       "    </tr>\n",
       "    <tr>\n",
       "      <th>z0</th>\n",
       "      <td>-0.191272</td>\n",
       "      <td>-0.177028</td>\n",
       "      <td>-0.161743</td>\n",
       "      <td>0.043804</td>\n",
       "      <td>0.024793</td>\n",
       "      <td>0.129165</td>\n",
       "      <td>0.038522</td>\n",
       "      <td>-0.002405</td>\n",
       "      <td>0.201455</td>\n",
       "      <td>0.080828</td>\n",
       "      <td>...</td>\n",
       "      <td>NaN</td>\n",
       "      <td>-0.111291</td>\n",
       "      <td>-0.180428</td>\n",
       "      <td>0.175543</td>\n",
       "      <td>0.133077</td>\n",
       "      <td>0.043934</td>\n",
       "      <td>-0.168287</td>\n",
       "      <td>0.037679</td>\n",
       "      <td>0.119311</td>\n",
       "      <td>-0.105459</td>\n",
       "    </tr>\n",
       "    <tr>\n",
       "      <th>y0</th>\n",
       "      <td>NaN</td>\n",
       "      <td>NaN</td>\n",
       "      <td>NaN</td>\n",
       "      <td>NaN</td>\n",
       "      <td>NaN</td>\n",
       "      <td>NaN</td>\n",
       "      <td>NaN</td>\n",
       "      <td>NaN</td>\n",
       "      <td>NaN</td>\n",
       "      <td>NaN</td>\n",
       "      <td>...</td>\n",
       "      <td>NaN</td>\n",
       "      <td>NaN</td>\n",
       "      <td>NaN</td>\n",
       "      <td>NaN</td>\n",
       "      <td>NaN</td>\n",
       "      <td>NaN</td>\n",
       "      <td>NaN</td>\n",
       "      <td>NaN</td>\n",
       "      <td>NaN</td>\n",
       "      <td>NaN</td>\n",
       "    </tr>\n",
       "    <tr>\n",
       "      <th>vx0</th>\n",
       "      <td>0.034300</td>\n",
       "      <td>0.169635</td>\n",
       "      <td>0.179513</td>\n",
       "      <td>-0.013558</td>\n",
       "      <td>-0.005430</td>\n",
       "      <td>-0.672477</td>\n",
       "      <td>0.009582</td>\n",
       "      <td>0.271210</td>\n",
       "      <td>-0.037321</td>\n",
       "      <td>-0.874181</td>\n",
       "      <td>...</td>\n",
       "      <td>NaN</td>\n",
       "      <td>1.000000</td>\n",
       "      <td>-0.055229</td>\n",
       "      <td>-0.169322</td>\n",
       "      <td>-0.704215</td>\n",
       "      <td>0.018051</td>\n",
       "      <td>0.101533</td>\n",
       "      <td>-0.094579</td>\n",
       "      <td>0.030478</td>\n",
       "      <td>0.688729</td>\n",
       "    </tr>\n",
       "    <tr>\n",
       "      <th>vz0</th>\n",
       "      <td>-0.461624</td>\n",
       "      <td>-0.567941</td>\n",
       "      <td>-0.579470</td>\n",
       "      <td>0.009181</td>\n",
       "      <td>-0.002438</td>\n",
       "      <td>0.108556</td>\n",
       "      <td>-0.648460</td>\n",
       "      <td>-0.093129</td>\n",
       "      <td>0.477468</td>\n",
       "      <td>-0.039410</td>\n",
       "      <td>...</td>\n",
       "      <td>NaN</td>\n",
       "      <td>-0.055229</td>\n",
       "      <td>1.000000</td>\n",
       "      <td>0.560585</td>\n",
       "      <td>0.097305</td>\n",
       "      <td>-0.660016</td>\n",
       "      <td>-0.385275</td>\n",
       "      <td>0.646673</td>\n",
       "      <td>0.018965</td>\n",
       "      <td>-0.098768</td>\n",
       "    </tr>\n",
       "    <tr>\n",
       "      <th>vy0</th>\n",
       "      <td>0.152918</td>\n",
       "      <td>-0.999819</td>\n",
       "      <td>-0.988073</td>\n",
       "      <td>0.005600</td>\n",
       "      <td>-0.008681</td>\n",
       "      <td>0.266289</td>\n",
       "      <td>-0.655811</td>\n",
       "      <td>0.016201</td>\n",
       "      <td>-0.162272</td>\n",
       "      <td>0.087359</td>\n",
       "      <td>...</td>\n",
       "      <td>NaN</td>\n",
       "      <td>-0.169322</td>\n",
       "      <td>0.560585</td>\n",
       "      <td>1.000000</td>\n",
       "      <td>0.263003</td>\n",
       "      <td>-0.704940</td>\n",
       "      <td>-0.765335</td>\n",
       "      <td>0.837849</td>\n",
       "      <td>0.225805</td>\n",
       "      <td>-0.250394</td>\n",
       "    </tr>\n",
       "    <tr>\n",
       "      <th>ax</th>\n",
       "      <td>0.021349</td>\n",
       "      <td>-0.262774</td>\n",
       "      <td>-0.257308</td>\n",
       "      <td>0.004986</td>\n",
       "      <td>-0.016564</td>\n",
       "      <td>0.991338</td>\n",
       "      <td>-0.120267</td>\n",
       "      <td>0.167153</td>\n",
       "      <td>-0.022142</td>\n",
       "      <td>0.542457</td>\n",
       "      <td>...</td>\n",
       "      <td>NaN</td>\n",
       "      <td>-0.704215</td>\n",
       "      <td>0.097305</td>\n",
       "      <td>0.263003</td>\n",
       "      <td>1.000000</td>\n",
       "      <td>-0.128311</td>\n",
       "      <td>-0.210377</td>\n",
       "      <td>0.185851</td>\n",
       "      <td>0.074467</td>\n",
       "      <td>-0.965642</td>\n",
       "    </tr>\n",
       "    <tr>\n",
       "      <th>az</th>\n",
       "      <td>-0.216688</td>\n",
       "      <td>0.707924</td>\n",
       "      <td>0.676797</td>\n",
       "      <td>0.009906</td>\n",
       "      <td>0.009492</td>\n",
       "      <td>-0.142057</td>\n",
       "      <td>0.986971</td>\n",
       "      <td>0.012316</td>\n",
       "      <td>0.235035</td>\n",
       "      <td>0.066868</td>\n",
       "      <td>...</td>\n",
       "      <td>NaN</td>\n",
       "      <td>0.018051</td>\n",
       "      <td>-0.660016</td>\n",
       "      <td>-0.704940</td>\n",
       "      <td>-0.128311</td>\n",
       "      <td>1.000000</td>\n",
       "      <td>0.560741</td>\n",
       "      <td>-0.939748</td>\n",
       "      <td>-0.287949</td>\n",
       "      <td>0.138051</td>\n",
       "    </tr>\n",
       "    <tr>\n",
       "      <th>ay</th>\n",
       "      <td>-0.149722</td>\n",
       "      <td>0.765022</td>\n",
       "      <td>0.661501</td>\n",
       "      <td>-0.008316</td>\n",
       "      <td>0.000107</td>\n",
       "      <td>-0.208872</td>\n",
       "      <td>0.508608</td>\n",
       "      <td>-0.023042</td>\n",
       "      <td>0.148525</td>\n",
       "      <td>-0.031375</td>\n",
       "      <td>...</td>\n",
       "      <td>NaN</td>\n",
       "      <td>0.101533</td>\n",
       "      <td>-0.385275</td>\n",
       "      <td>-0.765335</td>\n",
       "      <td>-0.210377</td>\n",
       "      <td>0.560741</td>\n",
       "      <td>1.000000</td>\n",
       "      <td>-0.591916</td>\n",
       "      <td>-0.715823</td>\n",
       "      <td>0.206438</td>\n",
       "    </tr>\n",
       "    <tr>\n",
       "      <th>break_length</th>\n",
       "      <td>0.224496</td>\n",
       "      <td>-0.839040</td>\n",
       "      <td>-0.826394</td>\n",
       "      <td>-0.006784</td>\n",
       "      <td>-0.012424</td>\n",
       "      <td>0.202032</td>\n",
       "      <td>-0.934547</td>\n",
       "      <td>-0.007264</td>\n",
       "      <td>-0.242175</td>\n",
       "      <td>0.009171</td>\n",
       "      <td>...</td>\n",
       "      <td>NaN</td>\n",
       "      <td>-0.094579</td>\n",
       "      <td>0.646673</td>\n",
       "      <td>0.837849</td>\n",
       "      <td>0.185851</td>\n",
       "      <td>-0.939748</td>\n",
       "      <td>-0.591916</td>\n",
       "      <td>1.000000</td>\n",
       "      <td>0.203228</td>\n",
       "      <td>-0.180738</td>\n",
       "    </tr>\n",
       "    <tr>\n",
       "      <th>break_y</th>\n",
       "      <td>0.209067</td>\n",
       "      <td>-0.226105</td>\n",
       "      <td>-0.087896</td>\n",
       "      <td>0.000684</td>\n",
       "      <td>0.004991</td>\n",
       "      <td>0.075194</td>\n",
       "      <td>-0.272803</td>\n",
       "      <td>0.032807</td>\n",
       "      <td>-0.208334</td>\n",
       "      <td>-0.066287</td>\n",
       "      <td>...</td>\n",
       "      <td>NaN</td>\n",
       "      <td>0.030478</td>\n",
       "      <td>0.018965</td>\n",
       "      <td>0.225805</td>\n",
       "      <td>0.074467</td>\n",
       "      <td>-0.287949</td>\n",
       "      <td>-0.715823</td>\n",
       "      <td>0.203228</td>\n",
       "      <td>1.000000</td>\n",
       "      <td>-0.074197</td>\n",
       "    </tr>\n",
       "    <tr>\n",
       "      <th>break_angle</th>\n",
       "      <td>-0.028890</td>\n",
       "      <td>0.249852</td>\n",
       "      <td>0.243874</td>\n",
       "      <td>-0.008099</td>\n",
       "      <td>0.013188</td>\n",
       "      <td>-0.945083</td>\n",
       "      <td>0.121808</td>\n",
       "      <td>-0.176182</td>\n",
       "      <td>0.030397</td>\n",
       "      <td>-0.546024</td>\n",
       "      <td>...</td>\n",
       "      <td>NaN</td>\n",
       "      <td>0.688729</td>\n",
       "      <td>-0.098768</td>\n",
       "      <td>-0.250394</td>\n",
       "      <td>-0.965642</td>\n",
       "      <td>0.138051</td>\n",
       "      <td>0.206438</td>\n",
       "      <td>-0.180738</td>\n",
       "      <td>-0.074197</td>\n",
       "      <td>1.000000</td>\n",
       "    </tr>\n",
       "  </tbody>\n",
       "</table>\n",
       "<p>21 rows × 21 columns</p>\n",
       "</div>"
      ],
      "text/plain": [
       "                     y  start_speed  end_speed    sz_top    sz_bot     pfx_x  \\\n",
       "y             1.000000    -0.145145  -0.113384 -0.045656 -0.028220  0.022828   \n",
       "start_speed  -0.145145     1.000000   0.988187 -0.005372  0.008600 -0.266214   \n",
       "end_speed    -0.113384     0.988187   1.000000 -0.005332  0.009664 -0.260792   \n",
       "sz_top       -0.045656    -0.005372  -0.005332  1.000000  0.741411  0.002274   \n",
       "sz_bot       -0.028220     0.008600   0.009664  0.741411  1.000000 -0.019319   \n",
       "pfx_x         0.022828    -0.266214  -0.260792  0.002274 -0.019319  1.000000   \n",
       "pfx_z        -0.210318     0.659021   0.629286  0.014476  0.012933 -0.137534   \n",
       "px            0.114967    -0.011997  -0.006782 -0.003003 -0.025646  0.175769   \n",
       "pz           -0.953755     0.154166   0.122774  0.042112  0.022819 -0.023735   \n",
       "x0            0.001868    -0.085410  -0.099075  0.015027  0.001869  0.503788   \n",
       "z0           -0.191272    -0.177028  -0.161743  0.043804  0.024793  0.129165   \n",
       "y0                 NaN          NaN        NaN       NaN       NaN       NaN   \n",
       "vx0           0.034300     0.169635   0.179513 -0.013558 -0.005430 -0.672477   \n",
       "vz0          -0.461624    -0.567941  -0.579470  0.009181 -0.002438  0.108556   \n",
       "vy0           0.152918    -0.999819  -0.988073  0.005600 -0.008681  0.266289   \n",
       "ax            0.021349    -0.262774  -0.257308  0.004986 -0.016564  0.991338   \n",
       "az           -0.216688     0.707924   0.676797  0.009906  0.009492 -0.142057   \n",
       "ay           -0.149722     0.765022   0.661501 -0.008316  0.000107 -0.208872   \n",
       "break_length  0.224496    -0.839040  -0.826394 -0.006784 -0.012424  0.202032   \n",
       "break_y       0.209067    -0.226105  -0.087896  0.000684  0.004991  0.075194   \n",
       "break_angle  -0.028890     0.249852   0.243874 -0.008099  0.013188 -0.945083   \n",
       "\n",
       "                 pfx_z        px        pz        x0     ...       y0  \\\n",
       "y            -0.210318  0.114967 -0.953755  0.001868     ...      NaN   \n",
       "start_speed   0.659021 -0.011997  0.154166 -0.085410     ...      NaN   \n",
       "end_speed     0.629286 -0.006782  0.122774 -0.099075     ...      NaN   \n",
       "sz_top        0.014476 -0.003003  0.042112  0.015027     ...      NaN   \n",
       "sz_bot        0.012933 -0.025646  0.022819  0.001869     ...      NaN   \n",
       "pfx_x        -0.137534  0.175769 -0.023735  0.503788     ...      NaN   \n",
       "pfx_z         1.000000  0.016790  0.228765  0.076117     ...      NaN   \n",
       "px            0.016790  1.000000 -0.123441  0.094070     ...      NaN   \n",
       "pz            0.228765 -0.123441  1.000000 -0.001712     ...      NaN   \n",
       "x0            0.076117  0.094070 -0.001712  1.000000     ...      NaN   \n",
       "z0            0.038522 -0.002405  0.201455  0.080828     ...      NaN   \n",
       "y0                 NaN       NaN       NaN       NaN     ...      NaN   \n",
       "vx0           0.009582  0.271210 -0.037321 -0.874181     ...      NaN   \n",
       "vz0          -0.648460 -0.093129  0.477468 -0.039410     ...      NaN   \n",
       "vy0          -0.655811  0.016201 -0.162272  0.087359     ...      NaN   \n",
       "ax           -0.120267  0.167153 -0.022142  0.542457     ...      NaN   \n",
       "az            0.986971  0.012316  0.235035  0.066868     ...      NaN   \n",
       "ay            0.508608 -0.023042  0.148525 -0.031375     ...      NaN   \n",
       "break_length -0.934547 -0.007264 -0.242175  0.009171     ...      NaN   \n",
       "break_y      -0.272803  0.032807 -0.208334 -0.066287     ...      NaN   \n",
       "break_angle   0.121808 -0.176182  0.030397 -0.546024     ...      NaN   \n",
       "\n",
       "                   vx0       vz0       vy0        ax        az        ay  \\\n",
       "y             0.034300 -0.461624  0.152918  0.021349 -0.216688 -0.149722   \n",
       "start_speed   0.169635 -0.567941 -0.999819 -0.262774  0.707924  0.765022   \n",
       "end_speed     0.179513 -0.579470 -0.988073 -0.257308  0.676797  0.661501   \n",
       "sz_top       -0.013558  0.009181  0.005600  0.004986  0.009906 -0.008316   \n",
       "sz_bot       -0.005430 -0.002438 -0.008681 -0.016564  0.009492  0.000107   \n",
       "pfx_x        -0.672477  0.108556  0.266289  0.991338 -0.142057 -0.208872   \n",
       "pfx_z         0.009582 -0.648460 -0.655811 -0.120267  0.986971  0.508608   \n",
       "px            0.271210 -0.093129  0.016201  0.167153  0.012316 -0.023042   \n",
       "pz           -0.037321  0.477468 -0.162272 -0.022142  0.235035  0.148525   \n",
       "x0           -0.874181 -0.039410  0.087359  0.542457  0.066868 -0.031375   \n",
       "z0           -0.111291 -0.180428  0.175543  0.133077  0.043934 -0.168287   \n",
       "y0                 NaN       NaN       NaN       NaN       NaN       NaN   \n",
       "vx0           1.000000 -0.055229 -0.169322 -0.704215  0.018051  0.101533   \n",
       "vz0          -0.055229  1.000000  0.560585  0.097305 -0.660016 -0.385275   \n",
       "vy0          -0.169322  0.560585  1.000000  0.263003 -0.704940 -0.765335   \n",
       "ax           -0.704215  0.097305  0.263003  1.000000 -0.128311 -0.210377   \n",
       "az            0.018051 -0.660016 -0.704940 -0.128311  1.000000  0.560741   \n",
       "ay            0.101533 -0.385275 -0.765335 -0.210377  0.560741  1.000000   \n",
       "break_length -0.094579  0.646673  0.837849  0.185851 -0.939748 -0.591916   \n",
       "break_y       0.030478  0.018965  0.225805  0.074467 -0.287949 -0.715823   \n",
       "break_angle   0.688729 -0.098768 -0.250394 -0.965642  0.138051  0.206438   \n",
       "\n",
       "              break_length   break_y  break_angle  \n",
       "y                 0.224496  0.209067    -0.028890  \n",
       "start_speed      -0.839040 -0.226105     0.249852  \n",
       "end_speed        -0.826394 -0.087896     0.243874  \n",
       "sz_top           -0.006784  0.000684    -0.008099  \n",
       "sz_bot           -0.012424  0.004991     0.013188  \n",
       "pfx_x             0.202032  0.075194    -0.945083  \n",
       "pfx_z            -0.934547 -0.272803     0.121808  \n",
       "px               -0.007264  0.032807    -0.176182  \n",
       "pz               -0.242175 -0.208334     0.030397  \n",
       "x0                0.009171 -0.066287    -0.546024  \n",
       "z0                0.037679  0.119311    -0.105459  \n",
       "y0                     NaN       NaN          NaN  \n",
       "vx0              -0.094579  0.030478     0.688729  \n",
       "vz0               0.646673  0.018965    -0.098768  \n",
       "vy0               0.837849  0.225805    -0.250394  \n",
       "ax                0.185851  0.074467    -0.965642  \n",
       "az               -0.939748 -0.287949     0.138051  \n",
       "ay               -0.591916 -0.715823     0.206438  \n",
       "break_length      1.000000  0.203228    -0.180738  \n",
       "break_y           0.203228  1.000000    -0.074197  \n",
       "break_angle      -0.180738 -0.074197     1.000000  \n",
       "\n",
       "[21 rows x 21 columns]"
      ]
     },
     "execution_count": 128,
     "metadata": {},
     "output_type": "execute_result"
    }
   ],
   "source": [
    "# Construct and observe correlation matrix\n",
    "corr"
   ]
  },
  {
   "cell_type": "markdown",
   "metadata": {},
   "source": [
    "A heatmap can give a good view of the correlations."
   ]
  },
  {
   "cell_type": "code",
   "execution_count": 130,
   "metadata": {},
   "outputs": [
    {
     "data": {
      "image/png": "[encoded data removed]",
      "text/plain": [
       "<Figure size 432x288 with 3 Axes>"
      ]
     },
     "metadata": {},
     "output_type": "display_data"
    }
   ],
   "source": [
    "sns.heatmap(nums_df.corr(),cmap='seismic' )\n",
    "plt.show()"
   ]
  },
  {
   "cell_type": "markdown",
   "metadata": {},
   "source": [
    "This is very tough to visualize, but the naked eye can spot that there are several strong red squares, which indicate variables that have high positive correlations with each other.  On the other hand, the dark blue indicate very high negative correlations between variables.\n",
    "\n",
    "Both of these metrics could point towards multicollinearity between the predictor variables.\n",
    "\n",
    "In order to get distinct numbers, the correlation matrix can be unstacked and sorted by descending or ascending levels of correlation."
   ]
  },
  {
   "cell_type": "code",
   "execution_count": 131,
   "metadata": {
    "collapsed": true
   },
   "outputs": [],
   "source": [
    "# Unstack matrix\n",
    "s = corr.unstack()"
   ]
  },
  {
   "cell_type": "code",
   "execution_count": 132,
   "metadata": {
    "collapsed": true
   },
   "outputs": [],
   "source": [
    "# Sort values in descending order\n",
    "sort = s.sort_values(kind=\"quicksort\",ascending=False)"
   ]
  },
  {
   "cell_type": "code",
   "execution_count": 134,
   "metadata": {},
   "outputs": [
    {
     "data": {
      "text/plain": [
       "break_angle  break_angle    1.0\n",
       "x0           x0             1.0\n",
       "ay           ay             1.0\n",
       "az           az             1.0\n",
       "ax           ax             1.0\n",
       "vy0          vy0            1.0\n",
       "vz0          vz0            1.0\n",
       "vx0          vx0            1.0\n",
       "z0           z0             1.0\n",
       "pz           pz             1.0\n",
       "dtype: float64"
      ]
     },
     "execution_count": 134,
     "metadata": {},
     "output_type": "execute_result"
    }
   ],
   "source": [
    "# All values that are 1.0 typically is just the correlation within itself.\n",
    "sort[:10]"
   ]
  },
  {
   "cell_type": "code",
   "execution_count": 139,
   "metadata": {},
   "outputs": [
    {
     "data": {
      "text/plain": [
       "pfx_x         ax              0.991338\n",
       "ax            pfx_x           0.991338\n",
       "end_speed     start_speed     0.988187\n",
       "start_speed   end_speed       0.988187\n",
       "pfx_z         az              0.986971\n",
       "az            pfx_z           0.986971\n",
       "break_length  vy0             0.837849\n",
       "vy0           break_length    0.837849\n",
       "ay            start_speed     0.765022\n",
       "start_speed   ay              0.765022\n",
       "sz_top        sz_bot          0.741411\n",
       "sz_bot        sz_top          0.741411\n",
       "az            start_speed     0.707924\n",
       "start_speed   az              0.707924\n",
       "break_angle   vx0             0.688729\n",
       "vx0           break_angle     0.688729\n",
       "end_speed     az              0.676797\n",
       "az            end_speed       0.676797\n",
       "end_speed     ay              0.661501\n",
       "ay            end_speed       0.661501\n",
       "dtype: float64"
      ]
     },
     "execution_count": 139,
     "metadata": {},
     "output_type": "execute_result"
    }
   ],
   "source": [
    "# Check the middle of the sort\n",
    "sort[20:40]"
   ]
  },
  {
   "cell_type": "markdown",
   "metadata": {},
   "source": [
    "Just as we suspected, there are several variables that have near perfect correlations with each other.  Before any features are removed, we should see if this multicollinearity actually hurts the performance of the classification models.  If the models falter, it might indicate that some features should be removed."
   ]
  },
  {
   "cell_type": "markdown",
   "metadata": {},
   "source": [
    "## Data conversions: Dummy variables and datetime's\n",
    "\n",
    "There are many categorical variables that should be converted into dummy variables in order to be properly used.  Also, there are a few datetime variables that need to be converted as well."
   ]
  },
  {
   "cell_type": "code",
   "execution_count": 36,
   "metadata": {
    "collapsed": true
   },
   "outputs": [],
   "source": [
    "# One-hot encoding all categorical variables to dummy variables\n",
    "cat_df = pd.get_dummies(df[['event','p_throws','pitch_des','type','stand']])"
   ]
  },
  {
   "cell_type": "code",
   "execution_count": 37,
   "metadata": {},
   "outputs": [
    {
     "name": "stdout",
     "output_type": "stream",
     "text": [
      "<class 'pandas.core.frame.DataFrame'>\n",
      "Int64Index: 716681 entries, 26 to 718960\n",
      "Data columns (total 55 columns):\n",
      "event_Batter Interference              716681 non-null uint8\n",
      "event_Bunt Groundout                   716681 non-null uint8\n",
      "event_Bunt Lineout                     716681 non-null uint8\n",
      "event_Bunt Pop Out                     716681 non-null uint8\n",
      "event_Catcher Interference             716681 non-null uint8\n",
      "event_Double                           716681 non-null uint8\n",
      "event_Double Play                      716681 non-null uint8\n",
      "event_Fan interference                 716681 non-null uint8\n",
      "event_Field Error                      716681 non-null uint8\n",
      "event_Fielders Choice                  716681 non-null uint8\n",
      "event_Fielders Choice Out              716681 non-null uint8\n",
      "event_Flyout                           716681 non-null uint8\n",
      "event_Forceout                         716681 non-null uint8\n",
      "event_Grounded Into DP                 716681 non-null uint8\n",
      "event_Groundout                        716681 non-null uint8\n",
      "event_Hit By Pitch                     716681 non-null uint8\n",
      "event_Home Run                         716681 non-null uint8\n",
      "event_Intent Walk                      716681 non-null uint8\n",
      "event_Lineout                          716681 non-null uint8\n",
      "event_Pop Out                          716681 non-null uint8\n",
      "event_Runner Out                       716681 non-null uint8\n",
      "event_Sac Bunt                         716681 non-null uint8\n",
      "event_Sac Fly                          716681 non-null uint8\n",
      "event_Sac Fly DP                       716681 non-null uint8\n",
      "event_Single                           716681 non-null uint8\n",
      "event_Strikeout                        716681 non-null uint8\n",
      "event_Strikeout - DP                   716681 non-null uint8\n",
      "event_Triple                           716681 non-null uint8\n",
      "event_Triple Play                      716681 non-null uint8\n",
      "event_Walk                             716681 non-null uint8\n",
      "p_throws_L                             716681 non-null uint8\n",
      "p_throws_R                             716681 non-null uint8\n",
      "pitch_des_Automatic Ball               716681 non-null uint8\n",
      "pitch_des_Ball                         716681 non-null uint8\n",
      "pitch_des_Ball In Dirt                 716681 non-null uint8\n",
      "pitch_des_Called Strike                716681 non-null uint8\n",
      "pitch_des_Foul                         716681 non-null uint8\n",
      "pitch_des_Foul (Runner Going)          716681 non-null uint8\n",
      "pitch_des_Foul Bunt                    716681 non-null uint8\n",
      "pitch_des_Foul Tip                     716681 non-null uint8\n",
      "pitch_des_Hit By Pitch                 716681 non-null uint8\n",
      "pitch_des_In play, no out              716681 non-null uint8\n",
      "pitch_des_In play, out(s)              716681 non-null uint8\n",
      "pitch_des_In play, run(s)              716681 non-null uint8\n",
      "pitch_des_Intent Ball                  716681 non-null uint8\n",
      "pitch_des_Missed Bunt                  716681 non-null uint8\n",
      "pitch_des_Pitchout                     716681 non-null uint8\n",
      "pitch_des_Swinging Pitchout            716681 non-null uint8\n",
      "pitch_des_Swinging Strike              716681 non-null uint8\n",
      "pitch_des_Swinging Strike (Blocked)    716681 non-null uint8\n",
      "type_B                                 716681 non-null uint8\n",
      "type_S                                 716681 non-null uint8\n",
      "type_X                                 716681 non-null uint8\n",
      "stand_L                                716681 non-null uint8\n",
      "stand_R                                716681 non-null uint8\n",
      "dtypes: uint8(55)\n",
      "memory usage: 43.1 MB\n"
     ]
    }
   ],
   "source": [
    "cat_df.info()"
   ]
  },
  {
   "cell_type": "markdown",
   "metadata": {},
   "source": [
    "Categorial DF should be added to the original DF"
   ]
  },
  {
   "cell_type": "code",
   "execution_count": 38,
   "metadata": {
    "collapsed": true
   },
   "outputs": [],
   "source": [
    "# Concatenate current DF with dummy variable DF\n",
    "df = pd.concat([df, cat_df], axis=1)"
   ]
  },
  {
   "cell_type": "code",
   "execution_count": 39,
   "metadata": {
    "collapsed": true
   },
   "outputs": [],
   "source": [
    "# Drop the original categorical columns that we don't need anymore\n",
    "df.drop(['stand','p_throws','event','pitch_des','type'],axis=1,inplace=True)"
   ]
  },
  {
   "cell_type": "code",
   "execution_count": 40,
   "metadata": {},
   "outputs": [
    {
     "name": "stdout",
     "output_type": "stream",
     "text": [
      "<class 'pandas.core.frame.DataFrame'>\n",
      "Int64Index: 716681 entries, 26 to 718960\n",
      "Columns: 120 entries, uid to stand_R\n",
      "dtypes: float64(28), int64(28), object(9), uint8(55)\n",
      "memory usage: 398.5+ MB\n"
     ]
    }
   ],
   "source": [
    "df.info()"
   ]
  },
  {
   "cell_type": "markdown",
   "metadata": {},
   "source": [
    "55 columns were added to this df, but it was necessary to do proper analysis."
   ]
  },
  {
   "cell_type": "markdown",
   "metadata": {},
   "source": [
    "### Date-time  and height conversions"
   ]
  },
  {
   "cell_type": "code",
   "execution_count": 41,
   "metadata": {
    "collapsed": true
   },
   "outputs": [],
   "source": [
    "df['date'] = pd.to_datetime(df['date'])"
   ]
  },
  {
   "cell_type": "markdown",
   "metadata": {},
   "source": [
    "To make the handling of dates easier, we're going to extract the month and day from the date and create new columns.  \n",
    "Note: The year is not needed since all games were played in 2011."
   ]
  },
  {
   "cell_type": "code",
   "execution_count": 42,
   "metadata": {
    "collapsed": true
   },
   "outputs": [],
   "source": [
    "# Drop year column\n",
    "df.drop(['year'],axis=1,inplace=True)"
   ]
  },
  {
   "cell_type": "code",
   "execution_count": 43,
   "metadata": {
    "collapsed": true
   },
   "outputs": [],
   "source": [
    "# Create new month and day column, extracted from the date column\n",
    "df['month'] = pd.DatetimeIndex(df['date']).month\n",
    "df['day'] = pd.DatetimeIndex(df['date']).day"
   ]
  },
  {
   "cell_type": "code",
   "execution_count": 44,
   "metadata": {},
   "outputs": [
    {
     "data": {
      "text/html": [
       "<div>\n",
       "<style>\n",
       "    .dataframe thead tr:only-child th {\n",
       "        text-align: right;\n",
       "    }\n",
       "\n",
       "    .dataframe thead th {\n",
       "        text-align: left;\n",
       "    }\n",
       "\n",
       "    .dataframe tbody tr th {\n",
       "        vertical-align: top;\n",
       "    }\n",
       "</style>\n",
       "<table border=\"1\" class=\"dataframe\">\n",
       "  <thead>\n",
       "    <tr style=\"text-align: right;\">\n",
       "      <th></th>\n",
       "      <th>date</th>\n",
       "      <th>month</th>\n",
       "      <th>day</th>\n",
       "    </tr>\n",
       "  </thead>\n",
       "  <tbody>\n",
       "    <tr>\n",
       "      <th>26</th>\n",
       "      <td>2011-03-31</td>\n",
       "      <td>3</td>\n",
       "      <td>31</td>\n",
       "    </tr>\n",
       "    <tr>\n",
       "      <th>27</th>\n",
       "      <td>2011-03-31</td>\n",
       "      <td>3</td>\n",
       "      <td>31</td>\n",
       "    </tr>\n",
       "    <tr>\n",
       "      <th>28</th>\n",
       "      <td>2011-03-31</td>\n",
       "      <td>3</td>\n",
       "      <td>31</td>\n",
       "    </tr>\n",
       "    <tr>\n",
       "      <th>29</th>\n",
       "      <td>2011-03-31</td>\n",
       "      <td>3</td>\n",
       "      <td>31</td>\n",
       "    </tr>\n",
       "    <tr>\n",
       "      <th>30</th>\n",
       "      <td>2011-03-31</td>\n",
       "      <td>3</td>\n",
       "      <td>31</td>\n",
       "    </tr>\n",
       "  </tbody>\n",
       "</table>\n",
       "</div>"
      ],
      "text/plain": [
       "         date  month  day\n",
       "26 2011-03-31      3   31\n",
       "27 2011-03-31      3   31\n",
       "28 2011-03-31      3   31\n",
       "29 2011-03-31      3   31\n",
       "30 2011-03-31      3   31"
      ]
     },
     "execution_count": 44,
     "metadata": {},
     "output_type": "execute_result"
    }
   ],
   "source": [
    "df.loc[:,['date','month','day']].head()"
   ]
  },
  {
   "cell_type": "code",
   "execution_count": 45,
   "metadata": {
    "collapsed": true
   },
   "outputs": [],
   "source": [
    "# Original date column no longer needed\n",
    "df.drop(['date'],axis=1,inplace=True)"
   ]
  },
  {
   "cell_type": "markdown",
   "metadata": {},
   "source": [
    "A few date-time columns such as 'created at','modified at', and 'added_at' can be dropped.  They have no relation to the game being played."
   ]
  },
  {
   "cell_type": "code",
   "execution_count": 46,
   "metadata": {
    "collapsed": true
   },
   "outputs": [],
   "source": [
    "# Drop 3 date time columns\n",
    "df.drop(['created_at','modified_at','added_at'],axis=1,inplace=True)"
   ]
  },
  {
   "cell_type": "markdown",
   "metadata": {},
   "source": [
    "For the rest of the date-time columns, it seems like some of these values have a year of 0.\n",
    "That error is concering so the columns will be dropped."
   ]
  },
  {
   "cell_type": "code",
   "execution_count": 47,
   "metadata": {
    "collapsed": true
   },
   "outputs": [],
   "source": [
    "df.drop(['start_tfs','start_tfs_zulu','pitch_tfs','pitch_tfs_zulu'],axis=1,inplace=True)"
   ]
  },
  {
   "cell_type": "markdown",
   "metadata": {},
   "source": [
    "A couple unique ID's have no relevance as well, and can safely be dropped."
   ]
  },
  {
   "cell_type": "code",
   "execution_count": 48,
   "metadata": {
    "collapsed": true
   },
   "outputs": [],
   "source": [
    "df.drop(['uid','game_pk','batter_id'],axis=1,inplace=True)"
   ]
  },
  {
   "cell_type": "markdown",
   "metadata": {},
   "source": [
    "The height column is shown as a string, it needs to converted to inches."
   ]
  },
  {
   "cell_type": "code",
   "execution_count": 49,
   "metadata": {},
   "outputs": [
    {
     "data": {
      "text/plain": [
       "6-2     134667\n",
       "6-0     119224\n",
       "6-1     111767\n",
       "6-3      82166\n",
       "5-11     67737\n",
       "5-10     63970\n",
       "6-4      56454\n",
       "5-9      29772\n",
       "6-5      24037\n",
       "5-8      14530\n",
       "6-6      10543\n",
       "5-6        853\n",
       "6-7        584\n",
       "6-8        228\n",
       "5-5         51\n",
       "5-7         45\n",
       "6-10        40\n",
       "6-9         13\n",
       "Name: b_height, dtype: int64"
      ]
     },
     "execution_count": 49,
     "metadata": {},
     "output_type": "execute_result"
    }
   ],
   "source": [
    "df['b_height'].value_counts()"
   ]
  },
  {
   "cell_type": "code",
   "execution_count": 50,
   "metadata": {
    "collapsed": true
   },
   "outputs": [],
   "source": [
    "# Mapping each height in the column to an inches conversion.\n",
    "df['b_height']=df['b_height'].map({'5-5':65,'5-6':66,'5-7':67,'5-8':68,'5-9':69,'5-10':70,'5-11':71,'6-0':72,'6-1':73,'6-2':74,'6-3':75,'6-4':76,'6-5':77,'6-6':78,'6-7':79,'6-8':80,'6-9':81,'6-10':82})"
   ]
  },
  {
   "cell_type": "markdown",
   "metadata": {},
   "source": [
    "## Modeling\n",
    "\n",
    "Time for modeling.  First, the data will be split into training and test sets.  The split performed will be an 80-20 ratio.  The training data is going to consist of about 573,344 samples, while the test set will consist of 143,336 samples."
   ]
  },
  {
   "cell_type": "code",
   "execution_count": 51,
   "metadata": {
    "collapsed": true
   },
   "outputs": [],
   "source": [
    "# Reset index for simplicity\n",
    "df.reset_index(inplace=True)"
   ]
  },
  {
   "cell_type": "code",
   "execution_count": 52,
   "metadata": {
    "collapsed": true
   },
   "outputs": [],
   "source": [
    "df.drop(['index'],axis=1,inplace=True)"
   ]
  },
  {
   "cell_type": "markdown",
   "metadata": {},
   "source": [
    "We need to get a list of all the columns except for the target variable ('pitch type')."
   ]
  },
  {
   "cell_type": "code",
   "execution_count": 53,
   "metadata": {
    "collapsed": true
   },
   "outputs": [],
   "source": [
    "cols = list(df.columns.values)"
   ]
  },
  {
   "cell_type": "code",
   "execution_count": 54,
   "metadata": {},
   "outputs": [
    {
     "data": {
      "text/plain": [
       "'pitch_type'"
      ]
     },
     "execution_count": 54,
     "metadata": {},
     "output_type": "execute_result"
    }
   ],
   "source": [
    "# Remove target variable from list\n",
    "cols.pop(cols.index('pitch_type'))"
   ]
  },
  {
   "cell_type": "code",
   "execution_count": 55,
   "metadata": {
    "collapsed": true
   },
   "outputs": [],
   "source": [
    "# Create dataframe of all columns except for one\n",
    "X = df[cols]"
   ]
  },
  {
   "cell_type": "code",
   "execution_count": 56,
   "metadata": {
    "collapsed": true
   },
   "outputs": [],
   "source": [
    "# Create series for the target variable\n",
    "y = df['pitch_type']"
   ]
  },
  {
   "cell_type": "code",
   "execution_count": 57,
   "metadata": {},
   "outputs": [
    {
     "name": "stdout",
     "output_type": "stream",
     "text": [
      "<class 'pandas.core.frame.DataFrame'>\n",
      "RangeIndex: 716681 entries, 0 to 716680\n",
      "Columns: 109 entries, team_id_b to day\n",
      "dtypes: float64(27), int64(26), object(1), uint8(55)\n",
      "memory usage: 332.9+ MB\n"
     ]
    }
   ],
   "source": [
    "X.info()"
   ]
  },
  {
   "cell_type": "code",
   "execution_count": 58,
   "metadata": {
    "collapsed": true
   },
   "outputs": [],
   "source": [
    "# Import Train-Test Split\n",
    "from sklearn.model_selection import train_test_split"
   ]
  },
  {
   "cell_type": "code",
   "execution_count": 59,
   "metadata": {
    "collapsed": true
   },
   "outputs": [],
   "source": [
    "# Split data into training and test sets\n",
    "X_train,X_test,y_train,y_test = train_test_split(X,y,test_size=0.2,random_state=0,stratify=y)"
   ]
  },
  {
   "cell_type": "markdown",
   "metadata": {},
   "source": [
    "## Logistic Regression\n",
    "\n",
    "Logistic regression will be the first classification algorithm utilized,as it is a great baseline model which generally performs well.  It is also fairly simple to deploy and is interpretable.  If this model performs and generalizes well, there is reason to believe this data is linearly separable.\n",
    "\n",
    "For this algorith, it usually performs better with standardized data.  So the training and test sets will be standardized before it is put into the model."
   ]
  },
  {
   "cell_type": "code",
   "execution_count": 60,
   "metadata": {
    "collapsed": true
   },
   "outputs": [],
   "source": [
    "# Import standard scaler\n",
    "from sklearn.preprocessing import StandardScaler"
   ]
  },
  {
   "cell_type": "code",
   "execution_count": 61,
   "metadata": {
    "collapsed": true
   },
   "outputs": [],
   "source": [
    "# Initialize scaler object\n",
    "std = StandardScaler()"
   ]
  },
  {
   "cell_type": "code",
   "execution_count": 62,
   "metadata": {},
   "outputs": [
    {
     "name": "stderr",
     "output_type": "stream",
     "text": [
      "/Users/peyjmonahmad/anaconda3/lib/python3.6/site-packages/sklearn/preprocessing/data.py:617: DataConversionWarning: Data with input dtype uint8, int64, float64, object were all converted to float64 by StandardScaler.\n",
      "  return self.partial_fit(X, y)\n",
      "/Users/peyjmonahmad/anaconda3/lib/python3.6/site-packages/sklearn/base.py:462: DataConversionWarning: Data with input dtype uint8, int64, float64, object were all converted to float64 by StandardScaler.\n",
      "  return self.fit(X, **fit_params).transform(X)\n",
      "/Users/peyjmonahmad/anaconda3/lib/python3.6/site-packages/ipykernel_launcher.py:5: DataConversionWarning: Data with input dtype uint8, int64, float64, object were all converted to float64 by StandardScaler.\n",
      "  \"\"\"\n"
     ]
    }
   ],
   "source": [
    "# Fit and transform on the training data\n",
    "X_train_std = std.fit_transform(X_train)\n",
    "\n",
    "# Only transform on the test data \n",
    "X_test_std = std.transform(X_test)"
   ]
  },
  {
   "cell_type": "markdown",
   "metadata": {},
   "source": [
    "Now, we can initialize the logistic regression model.  First we'll run the model with default parameters, and a regularization C = 1.0."
   ]
  },
  {
   "cell_type": "code",
   "execution_count": 63,
   "metadata": {
    "collapsed": true
   },
   "outputs": [],
   "source": [
    "from sklearn.linear_model import LogisticRegression"
   ]
  },
  {
   "cell_type": "code",
   "execution_count": 64,
   "metadata": {
    "collapsed": true
   },
   "outputs": [],
   "source": [
    "# Initialize logistic regression object\n",
    "logit = LogisticRegression()"
   ]
  },
  {
   "cell_type": "code",
   "execution_count": 66,
   "metadata": {},
   "outputs": [
    {
     "name": "stderr",
     "output_type": "stream",
     "text": [
      "/Users/peyjmonahmad/anaconda3/lib/python3.6/site-packages/sklearn/linear_model/logistic.py:432: FutureWarning: Default solver will be changed to 'lbfgs' in 0.22. Specify a solver to silence this warning.\n",
      "  FutureWarning)\n",
      "/Users/peyjmonahmad/anaconda3/lib/python3.6/site-packages/sklearn/linear_model/logistic.py:459: FutureWarning: Default multi_class will be changed to 'auto' in 0.22. Specify the multi_class option to silence this warning.\n",
      "  \"this warning.\", FutureWarning)\n"
     ]
    },
    {
     "data": {
      "text/plain": [
       "LogisticRegression(C=1.0, class_weight=None, dual=False, fit_intercept=True,\n",
       "          intercept_scaling=1, max_iter=100, multi_class='warn',\n",
       "          n_jobs=None, penalty='l2', random_state=None, solver='warn',\n",
       "          tol=0.0001, verbose=0, warm_start=False)"
      ]
     },
     "execution_count": 66,
     "metadata": {},
     "output_type": "execute_result"
    }
   ],
   "source": [
    "# Fit the model on the training data\n",
    "logit.fit(X_train_std,y_train)"
   ]
  },
  {
   "cell_type": "code",
   "execution_count": 67,
   "metadata": {
    "collapsed": true
   },
   "outputs": [],
   "source": [
    "# Store all the predictions in the Y predictions array\n",
    "y_pred = logit.predict(X_test_std)"
   ]
  },
  {
   "cell_type": "code",
   "execution_count": 68,
   "metadata": {
    "collapsed": true
   },
   "outputs": [],
   "source": [
    "# Also store probabiliies for each type of pitch\n",
    "y_pred_proba = logit.predict_proba(X_test_std)"
   ]
  },
  {
   "cell_type": "code",
   "execution_count": 69,
   "metadata": {},
   "outputs": [
    {
     "data": {
      "text/plain": [
       "array(['FF', 'FF', 'FF', 'FF', 'FF', 'FF', 'FF', 'FF', 'FF', 'FF', 'FF',\n",
       "       'FF', 'FF', 'FF', 'FF', 'FF', 'FF', 'FF', 'FF', 'FF', 'FF', 'FF',\n",
       "       'FF', 'FF', 'FF', 'FF', 'FF', 'FF', 'FF', 'FF', 'FF', 'FF', 'FF',\n",
       "       'FF', 'FF', 'FF', 'FF', 'FF', 'FF', 'FF', 'FF', 'FF', 'FF', 'FF',\n",
       "       'FF', 'FF', 'FF', 'FF', 'FF', 'FF'], dtype=object)"
      ]
     },
     "execution_count": 69,
     "metadata": {},
     "output_type": "execute_result"
    }
   ],
   "source": [
    "# Show first 50 predictions and compare to actual test set\n",
    "y_pred[0:50]"
   ]
  },
  {
   "cell_type": "markdown",
   "metadata": {},
   "source": [
    "It is clear from the start that logistic regression performed very poorly on this data.  The four-seam fastball (FF) was predicted as the type of pitch every single time.  This is a strong sign that this data is NOT linearly separable, and another model of choice should be used."
   ]
  },
  {
   "cell_type": "code",
   "execution_count": 70,
   "metadata": {},
   "outputs": [
    {
     "data": {
      "text/plain": [
       "142283    SL\n",
       "370280    FF\n",
       "372117    FF\n",
       "439747    FF\n",
       "144139    FF\n",
       "13440     CU\n",
       "103932    FF\n",
       "358947    FF\n",
       "3764      CH\n",
       "334264    SI\n",
       "333415    FT\n",
       "500245    FF\n",
       "427965    FF\n",
       "250268    CH\n",
       "85497     FF\n",
       "448981    IN\n",
       "253051    FF\n",
       "261792    SI\n",
       "519046    SI\n",
       "373859    SI\n",
       "333502    FF\n",
       "223090    SL\n",
       "370084    FT\n",
       "308304    SL\n",
       "247604    SL\n",
       "591954    FF\n",
       "563201    SI\n",
       "666483    SI\n",
       "319990    FT\n",
       "319851    FS\n",
       "349786    SL\n",
       "410765    FT\n",
       "377782    CU\n",
       "76360     FF\n",
       "129025    FF\n",
       "687211    SL\n",
       "483628    CU\n",
       "143027    SI\n",
       "60632     CH\n",
       "692240    SI\n",
       "334133    CH\n",
       "6340      SI\n",
       "578409    FF\n",
       "607464    FT\n",
       "378313    FT\n",
       "334214    SI\n",
       "606397    SL\n",
       "12185     SL\n",
       "329646    FT\n",
       "384708    CH\n",
       "Name: pitch_type, dtype: object"
      ]
     },
     "execution_count": 70,
     "metadata": {},
     "output_type": "execute_result"
    }
   ],
   "source": [
    "y_test[:50]"
   ]
  },
  {
   "cell_type": "code",
   "execution_count": 71,
   "metadata": {
    "collapsed": true
   },
   "outputs": [],
   "source": [
    "# Import classification report to see relevant metrics\n",
    "from sklearn.metrics import classification_report"
   ]
  },
  {
   "cell_type": "code",
   "execution_count": 72,
   "metadata": {
    "scrolled": false
   },
   "outputs": [
    {
     "name": "stderr",
     "output_type": "stream",
     "text": [
      "/Users/peyjmonahmad/anaconda3/lib/python3.6/site-packages/sklearn/metrics/classification.py:1143: UndefinedMetricWarning: Precision and F-score are ill-defined and being set to 0.0 in labels with no predicted samples.\n",
      "  'precision', 'predicted', average, warn_for)\n"
     ]
    },
    {
     "name": "stdout",
     "output_type": "stream",
     "text": [
      "              precision    recall  f1-score   support\n",
      "\n",
      "          CH       0.00      0.00      0.00     14528\n",
      "          CU       0.00      0.00      0.00     11276\n",
      "          EP       0.00      0.00      0.00        27\n",
      "          FA       0.00      0.00      0.00        41\n",
      "          FC       0.00      0.00      0.00      8340\n",
      "          FF       0.33      1.00      0.50     47709\n",
      "          FO       0.00      0.00      0.00        66\n",
      "          FS       0.00      0.00      0.00      2101\n",
      "          FT       0.00      0.00      0.00     16211\n",
      "          IN       0.00      0.00      0.00       812\n",
      "          KC       0.00      0.00      0.00      1698\n",
      "          KN       0.00      0.00      0.00       890\n",
      "          PO       0.00      0.00      0.00       112\n",
      "          SC       0.00      0.00      0.00        24\n",
      "          SI       0.00      0.00      0.00     17548\n",
      "          SL       0.00      0.00      0.00     21951\n",
      "          UN       0.00      0.00      0.00         3\n",
      "\n",
      "   micro avg       0.33      0.33      0.33    143337\n",
      "   macro avg       0.02      0.06      0.03    143337\n",
      "weighted avg       0.11      0.33      0.17    143337\n",
      "\n"
     ]
    }
   ],
   "source": [
    "# Show report based off curent predictions\n",
    "print(classification_report(y_test,logit.predict(X_test_std)))"
   ]
  },
  {
   "cell_type": "markdown",
   "metadata": {},
   "source": [
    "Before we move on, we can attempt to tune a couple parameters of the model to possibly improve the performance."
   ]
  },
  {
   "cell_type": "markdown",
   "metadata": {},
   "source": [
    "### Add class_weight = balanced_argument to Logistic Regression and increase C reguralization parameter.\n",
    "\n",
    "Adding a balanced argument as the class weight uses the values of y to automatically adjust weights inversely proportional to class frequencies.  This can be useful since the four-seam fastball occurs much more frequently than any other type of pitch. \n",
    "\n",
    "The C parameter is known as the inverse of regularization strength, so an increase in the C value will increase the reg strenth.  This could lead to a better fit on the training data.  "
   ]
  },
  {
   "cell_type": "code",
   "execution_count": 74,
   "metadata": {
    "collapsed": true
   },
   "outputs": [],
   "source": [
    "# Adjust parameters and initialize new model\n",
    "logit_bal = LogisticRegression(C=10.0,class_weight='balanced')"
   ]
  },
  {
   "cell_type": "code",
   "execution_count": 75,
   "metadata": {},
   "outputs": [
    {
     "name": "stderr",
     "output_type": "stream",
     "text": [
      "/Users/peyjmonahmad/anaconda3/lib/python3.6/site-packages/sklearn/linear_model/logistic.py:432: FutureWarning: Default solver will be changed to 'lbfgs' in 0.22. Specify a solver to silence this warning.\n",
      "  FutureWarning)\n",
      "/Users/peyjmonahmad/anaconda3/lib/python3.6/site-packages/sklearn/linear_model/logistic.py:459: FutureWarning: Default multi_class will be changed to 'auto' in 0.22. Specify the multi_class option to silence this warning.\n",
      "  \"this warning.\", FutureWarning)\n"
     ]
    },
    {
     "data": {
      "text/plain": [
       "LogisticRegression(C=10.0, class_weight='balanced', dual=False,\n",
       "          fit_intercept=True, intercept_scaling=1, max_iter=100,\n",
       "          multi_class='warn', n_jobs=None, penalty='l2', random_state=None,\n",
       "          solver='warn', tol=0.0001, verbose=0, warm_start=False)"
      ]
     },
     "execution_count": 75,
     "metadata": {},
     "output_type": "execute_result"
    }
   ],
   "source": [
    "# Fit model with new parameters\n",
    "logit_bal.fit(X_train_std,y_train)"
   ]
  },
  {
   "cell_type": "code",
   "execution_count": 76,
   "metadata": {
    "collapsed": true
   },
   "outputs": [],
   "source": [
    "# Store predicted y values\n",
    "y_pred_bal = logit_bal.predict(X_test)"
   ]
  },
  {
   "cell_type": "code",
   "execution_count": 77,
   "metadata": {},
   "outputs": [
    {
     "data": {
      "text/plain": [
       "array(['FF', 'FF', 'FF', 'FF', 'FF', 'FF', 'FF', 'SC', 'FF', 'FF', 'FF',\n",
       "       'FF', 'FF', 'FF', 'FF', 'EP', 'FF', 'FF', 'FF', 'FF', 'FF', 'FF',\n",
       "       'FF', 'FF', 'FF', 'FF', 'FF', 'FF', 'FF', 'FF', 'FF', 'FF', 'SC',\n",
       "       'FF', 'FF', 'FF', 'FF', 'SC', 'SC', 'FF', 'FF', 'SC', 'SC', 'SC',\n",
       "       'FF', 'FF', 'EP', 'FF', 'FF', 'SC'], dtype=object)"
      ]
     },
     "execution_count": 77,
     "metadata": {},
     "output_type": "execute_result"
    }
   ],
   "source": [
    "# New predictions\n",
    "y_pred_bal[:50]"
   ]
  },
  {
   "cell_type": "code",
   "execution_count": 78,
   "metadata": {},
   "outputs": [
    {
     "name": "stderr",
     "output_type": "stream",
     "text": [
      "/Users/peyjmonahmad/anaconda3/lib/python3.6/site-packages/sklearn/metrics/classification.py:1143: UndefinedMetricWarning: Precision and F-score are ill-defined and being set to 0.0 in labels with no predicted samples.\n",
      "  'precision', 'predicted', average, warn_for)\n",
      "/Users/peyjmonahmad/anaconda3/lib/python3.6/site-packages/sklearn/metrics/classification.py:1145: UndefinedMetricWarning: Recall and F-score are ill-defined and being set to 0.0 in labels with no true samples.\n",
      "  'recall', 'true', average, warn_for)\n"
     ]
    },
    {
     "name": "stdout",
     "output_type": "stream",
     "text": [
      "              precision    recall  f1-score   support\n",
      "\n",
      "          AB       0.00      0.00      0.00         0\n",
      "          CH       0.00      0.00      0.00     14528\n",
      "          CU       0.00      0.00      0.00     11276\n",
      "          EP       0.00      0.48      0.00        27\n",
      "          FA       0.00      0.00      0.00        41\n",
      "          FC       0.00      0.00      0.00      8340\n",
      "          FF       0.34      0.73      0.47     47709\n",
      "          FO       0.00      0.00      0.00        66\n",
      "          FS       0.00      0.00      0.00      2101\n",
      "          FT       0.00      0.00      0.00     16211\n",
      "          IN       0.00      0.00      0.00       812\n",
      "          KC       0.00      0.00      0.00      1698\n",
      "          KN       0.00      0.00      0.00       890\n",
      "          PO       0.00      0.00      0.00       112\n",
      "          SC       0.00      1.00      0.00        24\n",
      "          SI       0.00      0.00      0.00     17548\n",
      "          SL       0.00      0.00      0.00     21951\n",
      "          UN       0.00      0.00      0.00         3\n",
      "\n",
      "   micro avg       0.24      0.24      0.24    143337\n",
      "   macro avg       0.02      0.12      0.03    143337\n",
      "weighted avg       0.11      0.24      0.16    143337\n",
      "\n"
     ]
    }
   ],
   "source": [
    "print(classification_report(y_test,logit_bal.predict(X_test)))"
   ]
  },
  {
   "cell_type": "markdown",
   "metadata": {},
   "source": [
    "The changes of parameters hardly made a difference, as almost every predicted class was still the four-seam fastball.  We can conclude that this data is not linearly separable, and a different algorithm needs to be implemented get stronger predictions."
   ]
  },
  {
   "cell_type": "markdown",
   "metadata": {},
   "source": [
    "## Random Forest (Ensemble of decision trees)\n",
    "\n",
    "There is a good chance that random forest performs better on this data set, as it is known for it's good classification performance and scalability.  \n",
    "\n",
    "As this algorithm will use an ensemble method by averaging multiple decision trees, and randomly sampling with replacement, it should build a robust model with better generalization performance.\n",
    "\n",
    "Another positive about this algorithm, is that it takes little to no hyperparameter tuning to generate a model, and it is scale invariant.  So, we do not have to worry about feeding in standardized data."
   ]
  },
  {
   "cell_type": "code",
   "execution_count": 79,
   "metadata": {
    "collapsed": true
   },
   "outputs": [],
   "source": [
    "# Import random forest form ensemble class\n",
    "from sklearn.ensemble import RandomForestClassifier"
   ]
  },
  {
   "cell_type": "code",
   "execution_count": 118,
   "metadata": {
    "collapsed": true
   },
   "outputs": [],
   "source": [
    "# Initialize random forest object\n",
    "rf = RandomForestClassifier(n_estimators=10)"
   ]
  },
  {
   "cell_type": "code",
   "execution_count": 148,
   "metadata": {
    "collapsed": true
   },
   "outputs": [],
   "source": [
    "# Fit on training data\n",
    "rf_model = rf.fit(X_train,y_train)"
   ]
  },
  {
   "cell_type": "code",
   "execution_count": 149,
   "metadata": {
    "collapsed": true
   },
   "outputs": [],
   "source": [
    "# Store predictions in array\n",
    "y_pred = rf_model.predict(X_test)"
   ]
  },
  {
   "cell_type": "code",
   "execution_count": 121,
   "metadata": {},
   "outputs": [
    {
     "data": {
      "text/plain": [
       "array(['SL', 'SL', 'FF', 'FF', 'FF', 'CU', 'FF', 'FF', 'CH', 'SI', 'FT',\n",
       "       'FF', 'FF', 'CH', 'FF', 'IN', 'FF', 'SI', 'SI', 'SI', 'FF', 'CU',\n",
       "       'FT', 'SL', 'SL', 'FF', 'FT', 'SI', 'FT', 'SI', 'SL', 'FT', 'CU',\n",
       "       'FF', 'FF', 'SL', 'CU', 'SI', 'CH', 'FT', 'CH', 'SI', 'FF', 'FT',\n",
       "       'FF', 'SI', 'CU', 'CU', 'FF', 'CH'], dtype=object)"
      ]
     },
     "execution_count": 121,
     "metadata": {},
     "output_type": "execute_result"
    }
   ],
   "source": [
    "# See what we got\n",
    "y_pred[0:50]"
   ]
  },
  {
   "cell_type": "code",
   "execution_count": 96,
   "metadata": {
    "collapsed": true
   },
   "outputs": [],
   "source": [
    "# We can predict probability of each class as well\n",
    "y_pred_proba = rf.predict_proba(X_test)"
   ]
  },
  {
   "cell_type": "code",
   "execution_count": 97,
   "metadata": {},
   "outputs": [
    {
     "data": {
      "text/plain": [
       "array([[0. , 0. , 0.1, 0. , 0. , 0.2, 0. , 0. , 0. , 0. , 0. , 0. , 0. ,\n",
       "        0. , 0. , 0. , 0.7, 0. ],\n",
       "       [0. , 0. , 0. , 0. , 0. , 0.2, 0.3, 0. , 0. , 0. , 0. , 0. , 0. ,\n",
       "        0. , 0. , 0. , 0.5, 0. ],\n",
       "       [0. , 0.1, 0. , 0. , 0. , 0. , 0.3, 0. , 0. , 0.5, 0. , 0. , 0. ,\n",
       "        0. , 0. , 0.1, 0. , 0. ],\n",
       "       [0. , 0. , 0. , 0. , 0. , 0.1, 0.4, 0. , 0. , 0.4, 0. , 0. , 0. ,\n",
       "        0. , 0. , 0.1, 0. , 0. ],\n",
       "       [0. , 0. , 0. , 0. , 0. , 0. , 0.5, 0. , 0. , 0.3, 0. , 0. , 0. ,\n",
       "        0. , 0. , 0.2, 0. , 0. ],\n",
       "       [0. , 0. , 0.8, 0. , 0. , 0. , 0. , 0. , 0. , 0. , 0. , 0. , 0. ,\n",
       "        0. , 0. , 0. , 0.2, 0. ],\n",
       "       [0. , 0. , 0. , 0. , 0. , 0. , 1. , 0. , 0. , 0. , 0. , 0. , 0. ,\n",
       "        0. , 0. , 0. , 0. , 0. ],\n",
       "       [0. , 0. , 0. , 0. , 0. , 0. , 0.6, 0. , 0. , 0.1, 0. , 0. , 0. ,\n",
       "        0. , 0. , 0.3, 0. , 0. ],\n",
       "       [0. , 0.7, 0.1, 0. , 0. , 0. , 0. , 0. , 0. , 0. , 0. , 0.1, 0. ,\n",
       "        0. , 0. , 0. , 0.1, 0. ],\n",
       "       [0. , 0. , 0. , 0. , 0. , 0. , 0. , 0. , 0. , 0. , 0. , 0. , 0. ,\n",
       "        0. , 0. , 1. , 0. , 0. ]])"
      ]
     },
     "execution_count": 97,
     "metadata": {},
     "output_type": "execute_result"
    }
   ],
   "source": [
    "y_pred_proba[:10]"
   ]
  },
  {
   "cell_type": "markdown",
   "metadata": {},
   "source": [
    "For each sample there are many values of 0, this shows that this model is able to fully eliminate a lot of pitches as even small possibilities of being the correctly predicted pitch."
   ]
  },
  {
   "cell_type": "code",
   "execution_count": 86,
   "metadata": {},
   "outputs": [
    {
     "data": {
      "text/plain": [
       "142283    SL\n",
       "370280    FF\n",
       "372117    FF\n",
       "439747    FF\n",
       "144139    FF\n",
       "13440     CU\n",
       "103932    FF\n",
       "358947    FF\n",
       "3764      CH\n",
       "334264    SI\n",
       "333415    FT\n",
       "500245    FF\n",
       "427965    FF\n",
       "250268    CH\n",
       "85497     FF\n",
       "Name: pitch_type, dtype: object"
      ]
     },
     "execution_count": 86,
     "metadata": {},
     "output_type": "execute_result"
    }
   ],
   "source": [
    "y_test[:15]"
   ]
  },
  {
   "cell_type": "markdown",
   "metadata": {},
   "source": [
    "From a first glance, it seems like this algorithm generalized very well on the test set.  Let's print a classification report to confirm this."
   ]
  },
  {
   "cell_type": "code",
   "execution_count": 150,
   "metadata": {},
   "outputs": [
    {
     "name": "stderr",
     "output_type": "stream",
     "text": [
      "/Users/peyjmonahmad/anaconda3/lib/python3.6/site-packages/sklearn/metrics/classification.py:1143: UndefinedMetricWarning: Precision and F-score are ill-defined and being set to 0.0 in labels with no predicted samples.\n",
      "  'precision', 'predicted', average, warn_for)\n"
     ]
    },
    {
     "name": "stdout",
     "output_type": "stream",
     "text": [
      "              precision    recall  f1-score   support\n",
      "\n",
      "          CH       0.85      0.91      0.88     14528\n",
      "          CU       0.88      0.93      0.91     11276\n",
      "          EP       1.00      0.30      0.46        27\n",
      "          FA       0.00      0.00      0.00        41\n",
      "          FC       0.78      0.68      0.73      8340\n",
      "          FF       0.88      0.93      0.90     47709\n",
      "          FO       1.00      0.33      0.50        66\n",
      "          FS       0.85      0.40      0.54      2101\n",
      "          FT       0.79      0.74      0.77     16211\n",
      "          IN       1.00      1.00      1.00       812\n",
      "          KC       0.93      0.58      0.72      1698\n",
      "          KN       0.98      0.89      0.94       890\n",
      "          PO       1.00      0.92      0.96       112\n",
      "          SC       1.00      0.75      0.86        24\n",
      "          SI       0.93      0.85      0.89     17548\n",
      "          SL       0.86      0.90      0.88     21951\n",
      "          UN       1.00      1.00      1.00         3\n",
      "\n",
      "   micro avg       0.87      0.87      0.87    143337\n",
      "   macro avg       0.87      0.71      0.76    143337\n",
      "weighted avg       0.87      0.87      0.86    143337\n",
      "\n"
     ]
    }
   ],
   "source": [
    "print(classification_report(y_test,rf_model.predict(X_test)))"
   ]
  },
  {
   "cell_type": "markdown",
   "metadata": {},
   "source": [
    "The random forest model performed very well, with the only parameter being tuned was the number of trees to grow at each sample.  A couple of the pitch types were even classified perfectly on the test data."
   ]
  },
  {
   "cell_type": "markdown",
   "metadata": {},
   "source": [
    "We can also run K-fold cross validation sets, where this model will see many test sets, and can hopefully output a similar performance at each fold."
   ]
  },
  {
   "cell_type": "markdown",
   "metadata": {},
   "source": [
    "## K-Folds Cross Validation (random forest)\n",
    "\n",
    "The validation will be performed with 10 equal splits, as this is a general practice for cross-validation."
   ]
  },
  {
   "cell_type": "code",
   "execution_count": 90,
   "metadata": {
    "collapsed": true
   },
   "outputs": [],
   "source": [
    "# Import stratified K-fold\n",
    "from sklearn.model_selection import StratifiedKFold"
   ]
  },
  {
   "cell_type": "code",
   "execution_count": 91,
   "metadata": {
    "collapsed": true
   },
   "outputs": [],
   "source": [
    "# Intialize k-fold with 10 splits\n",
    "kfold = StratifiedKFold(n_splits=10,random_state=1).split(X_train,y_train)"
   ]
  },
  {
   "cell_type": "markdown",
   "metadata": {},
   "source": [
    "The metric that will be used to evaluate the performance at each fold is a weighted F1 score, which is a good balance of precision and recall.  The weighted portion allows the scoring to be extended to multiclassification."
   ]
  },
  {
   "cell_type": "code",
   "execution_count": 93,
   "metadata": {
    "collapsed": true
   },
   "outputs": [],
   "source": [
    "from sklearn.metrics import f1_score"
   ]
  },
  {
   "cell_type": "code",
   "execution_count": 94,
   "metadata": {},
   "outputs": [
    {
     "name": "stderr",
     "output_type": "stream",
     "text": [
      "/Users/peyjmonahmad/anaconda3/lib/python3.6/site-packages/sklearn/metrics/classification.py:1143: UndefinedMetricWarning: F-score is ill-defined and being set to 0.0 in labels with no predicted samples.\n",
      "  'precision', 'predicted', average, warn_for)\n",
      "/Users/peyjmonahmad/anaconda3/lib/python3.6/site-packages/sklearn/metrics/classification.py:1143: UndefinedMetricWarning: F-score is ill-defined and being set to 0.0 in labels with no predicted samples.\n",
      "  'precision', 'predicted', average, warn_for)\n",
      "/Users/peyjmonahmad/anaconda3/lib/python3.6/site-packages/sklearn/metrics/classification.py:1143: UndefinedMetricWarning: F-score is ill-defined and being set to 0.0 in labels with no predicted samples.\n",
      "  'precision', 'predicted', average, warn_for)\n"
     ]
    }
   ],
   "source": [
    "scores = []\n",
    "for train,test in kfold:\n",
    "    rf.fit(X_train, y_train)\n",
    "    score = f1_score(y_test,rf.predict(X_test),average='weighted')\n",
    "    scores.append(score)"
   ]
  },
  {
   "cell_type": "code",
   "execution_count": 95,
   "metadata": {},
   "outputs": [
    {
     "data": {
      "text/plain": [
       "[0.8698180516403929,\n",
       " 0.8640212067702175,\n",
       " 0.8659012590623236,\n",
       " 0.8702610573301767,\n",
       " 0.8703498931559256,\n",
       " 0.8661345394603819,\n",
       " 0.8681135584181104,\n",
       " 0.8676622870692308,\n",
       " 0.8661178145329793]"
      ]
     },
     "execution_count": 95,
     "metadata": {},
     "output_type": "execute_result"
    }
   ],
   "source": [
    "scores"
   ]
  },
  {
   "cell_type": "markdown",
   "metadata": {},
   "source": [
    "As the model was evaluated on 10 equal folds, we can see that the weighted F1 score does not fluctuate much at all through each iteration.  Overall, it is safe to say that this model generalizes well on unseen data."
   ]
  },
  {
   "cell_type": "markdown",
   "metadata": {},
   "source": [
    "## PCA Dimensionality Reduction\n",
    "\n",
    "The random forest model performed well with almost all features included, but with dimensionality reduction we can remove some of the less relevant features and possibly improve performance.\n",
    "\n",
    "With this technique, the feature space will be reduced to 50 components, to see if we can ultimately predict better and explain the data better with less features in the process.\n",
    "\n",
    "Scaling is an important part of this algorithm, so we will fit PCA on scaled data."
   ]
  },
  {
   "cell_type": "code",
   "execution_count": 98,
   "metadata": {
    "collapsed": true
   },
   "outputs": [],
   "source": [
    "from sklearn.decomposition import PCA"
   ]
  },
  {
   "cell_type": "code",
   "execution_count": 99,
   "metadata": {
    "collapsed": true
   },
   "outputs": [],
   "source": [
    "# Initialiaze PCA with 50 principal components\n",
    "pca = PCA(n_components=50)"
   ]
  },
  {
   "cell_type": "code",
   "execution_count": 100,
   "metadata": {
    "collapsed": true
   },
   "outputs": [],
   "source": [
    "X_train_pca = pca.fit_transform(X_train_std)"
   ]
  },
  {
   "cell_type": "code",
   "execution_count": 101,
   "metadata": {
    "collapsed": true
   },
   "outputs": [],
   "source": [
    "X_test_pca = pca.transform(X_test_std)"
   ]
  },
  {
   "cell_type": "markdown",
   "metadata": {},
   "source": [
    "The explained variance allows us to see the principal components that explain the most variance, in descending order."
   ]
  },
  {
   "cell_type": "code",
   "execution_count": 102,
   "metadata": {},
   "outputs": [
    {
     "data": {
      "text/plain": [
       "array([0.06921332, 0.04999315, 0.03708658, 0.03528219, 0.03417963,\n",
       "       0.03289036, 0.02834579, 0.02299135, 0.02170196, 0.02159503,\n",
       "       0.01962799, 0.01856818, 0.01780331, 0.01603917, 0.01552563,\n",
       "       0.01455828, 0.01379756, 0.01288003, 0.0124836 , 0.01209979,\n",
       "       0.01141673, 0.01089516, 0.01069108, 0.01038857, 0.01021053,\n",
       "       0.01000541, 0.00983473, 0.00982495, 0.00973   , 0.00972344,\n",
       "       0.00955922, 0.00954508, 0.00945985, 0.00943129, 0.00938144,\n",
       "       0.00934464, 0.00928794, 0.00928187, 0.00926571, 0.00926441,\n",
       "       0.00925324, 0.00924655, 0.00924157, 0.0092308 , 0.00920348,\n",
       "       0.00919112, 0.00915453, 0.00912387, 0.00909018, 0.00905997])"
      ]
     },
     "execution_count": 102,
     "metadata": {},
     "output_type": "execute_result"
    }
   ],
   "source": [
    "# Explained variance ratio of 50 components, equaling to 1\n",
    "pca.explained_variance_ratio_"
   ]
  },
  {
   "cell_type": "code",
   "execution_count": 104,
   "metadata": {},
   "outputs": [
    {
     "data": {
      "text/plain": [
       "array([ 1.32004452e-03,  1.76518154e-02, -2.84249884e-02, -3.28351410e-03,\n",
       "       -2.85149913e-02,  8.53447593e-03,  4.52052904e-02, -2.15842968e-02,\n",
       "        3.75201393e-02,  1.85256549e-02,  1.00159997e-02,  4.77120611e-03,\n",
       "       -1.05885322e-02,  1.81283127e-02,  1.14063982e-02,  5.64760550e-03,\n",
       "       -3.01589293e-02, -1.97833681e-02, -1.58096039e-02,  5.61537083e-04,\n",
       "       -3.01177398e-02, -3.05895242e-02,  6.46558971e-02,  2.00590258e-03,\n",
       "       -3.18903347e-01, -3.07866879e-01,  2.90691338e-03, -4.30586251e-03,\n",
       "        2.19888709e-01, -2.68117131e-01,  2.92936011e-02, -6.80617828e-02,\n",
       "        1.25618476e-01,  5.12246456e-02, -6.61078950e-21, -1.65899008e-01,\n",
       "        2.00130388e-01,  3.18687640e-01,  2.20130214e-01, -2.80703103e-01,\n",
       "       -2.65018752e-01,  3.05023366e-01,  1.16727935e-01, -2.16274840e-01,\n",
       "        3.57480884e-02,  4.37163020e-02, -4.08494461e-02, -1.85336037e-01,\n",
       "       -1.91971309e-01, -4.62180504e-03,  1.54173833e-02,  1.22993968e-02,\n",
       "        3.28368277e-04, -6.35000578e-04, -4.81162287e-04, -3.29918373e-03,\n",
       "       -1.23695537e-03, -1.64404107e-03, -7.07424464e-04, -1.88818830e-04,\n",
       "        1.98875401e-03,  8.29047036e-06,  1.14314334e-03, -8.78329923e-03,\n",
       "        8.23661377e-04,  2.91672373e-05,  3.03387602e-03,  1.40791034e-03,\n",
       "       -1.24773513e-03,  4.47592292e-02, -2.47357072e-03, -4.11120728e-03,\n",
       "       -4.18009596e-04, -5.26249555e-03,  2.73940961e-04,  1.81985049e-04,\n",
       "       -3.82566579e-03,  1.44507778e-02, -2.09903266e-03, -1.21458886e-03,\n",
       "        1.29713570e-03, -1.51243482e-02,  1.32576583e-01, -1.32576583e-01,\n",
       "        4.18978701e-04,  1.84489048e-03,  3.94310619e-02, -1.45364959e-02,\n",
       "       -2.62139363e-02, -6.28178393e-03, -2.87290036e-03, -6.58327291e-03,\n",
       "        1.04567473e-04, -3.16645340e-03, -3.69143875e-03, -3.15703376e-04,\n",
       "        4.71603231e-02,  1.81085510e-03, -2.06704353e-03,  4.45257375e-05,\n",
       "        2.19035244e-02,  3.38323527e-02,  1.99169652e-02, -1.54976162e-02,\n",
       "       -4.86489328e-03, -4.10475553e-02,  4.10475553e-02,  1.94088720e-03,\n",
       "        1.57254520e-03])"
      ]
     },
     "execution_count": 104,
     "metadata": {},
     "output_type": "execute_result"
    }
   ],
   "source": [
    "# This shows this co-variance associated with each component\n",
    "pca.components_[0]"
   ]
  },
  {
   "cell_type": "code",
   "execution_count": 105,
   "metadata": {
    "collapsed": true
   },
   "outputs": [],
   "source": [
    "# Convert components to a DataFrame\n",
    "components_50 = pd.DataFrame(pca.components_,columns=X_train.columns)"
   ]
  },
  {
   "cell_type": "code",
   "execution_count": 107,
   "metadata": {},
   "outputs": [
    {
     "data": {
      "text/plain": [
       "(50, 109)"
      ]
     },
     "execution_count": 107,
     "metadata": {},
     "output_type": "execute_result"
    }
   ],
   "source": [
    "components_50.shape"
   ]
  },
  {
   "cell_type": "markdown",
   "metadata": {},
   "source": [
    "By converting these components to a dataframe, we can see the actual feature names that provide the most explanations of our data."
   ]
  },
  {
   "cell_type": "code",
   "execution_count": 108,
   "metadata": {},
   "outputs": [
    {
     "data": {
      "text/html": [
       "<div>\n",
       "<style>\n",
       "    .dataframe thead tr:only-child th {\n",
       "        text-align: right;\n",
       "    }\n",
       "\n",
       "    .dataframe thead th {\n",
       "        text-align: left;\n",
       "    }\n",
       "\n",
       "    .dataframe tbody tr th {\n",
       "        vertical-align: top;\n",
       "    }\n",
       "</style>\n",
       "<table border=\"1\" class=\"dataframe\">\n",
       "  <thead>\n",
       "    <tr style=\"text-align: right;\">\n",
       "      <th></th>\n",
       "      <th>team_id_b</th>\n",
       "      <th>team_id_p</th>\n",
       "      <th>inning</th>\n",
       "      <th>top</th>\n",
       "      <th>at_bat_num</th>\n",
       "      <th>pcount_at_bat</th>\n",
       "      <th>pcount_pitcher</th>\n",
       "      <th>balls</th>\n",
       "      <th>strikes</th>\n",
       "      <th>fouls</th>\n",
       "    </tr>\n",
       "  </thead>\n",
       "  <tbody>\n",
       "    <tr>\n",
       "      <th>0</th>\n",
       "      <td>0.001320</td>\n",
       "      <td>0.017652</td>\n",
       "      <td>-0.028425</td>\n",
       "      <td>-0.003284</td>\n",
       "      <td>-0.028515</td>\n",
       "      <td>0.008534</td>\n",
       "      <td>0.045205</td>\n",
       "      <td>-0.021584</td>\n",
       "      <td>0.037520</td>\n",
       "      <td>0.018526</td>\n",
       "    </tr>\n",
       "    <tr>\n",
       "      <th>1</th>\n",
       "      <td>0.009401</td>\n",
       "      <td>-0.034242</td>\n",
       "      <td>0.041665</td>\n",
       "      <td>0.000819</td>\n",
       "      <td>0.042217</td>\n",
       "      <td>0.006816</td>\n",
       "      <td>0.010878</td>\n",
       "      <td>-0.008925</td>\n",
       "      <td>0.020200</td>\n",
       "      <td>0.013741</td>\n",
       "    </tr>\n",
       "    <tr>\n",
       "      <th>2</th>\n",
       "      <td>-0.002134</td>\n",
       "      <td>-0.000609</td>\n",
       "      <td>-0.001568</td>\n",
       "      <td>0.003599</td>\n",
       "      <td>-0.002438</td>\n",
       "      <td>0.176036</td>\n",
       "      <td>0.026166</td>\n",
       "      <td>0.129326</td>\n",
       "      <td>0.156161</td>\n",
       "      <td>0.133794</td>\n",
       "    </tr>\n",
       "    <tr>\n",
       "      <th>3</th>\n",
       "      <td>-0.009260</td>\n",
       "      <td>0.002557</td>\n",
       "      <td>0.423391</td>\n",
       "      <td>-0.013241</td>\n",
       "      <td>0.444645</td>\n",
       "      <td>0.086128</td>\n",
       "      <td>-0.020759</td>\n",
       "      <td>0.054497</td>\n",
       "      <td>0.084946</td>\n",
       "      <td>0.072030</td>\n",
       "    </tr>\n",
       "    <tr>\n",
       "      <th>4</th>\n",
       "      <td>0.001304</td>\n",
       "      <td>-0.004137</td>\n",
       "      <td>0.150961</td>\n",
       "      <td>-0.013772</td>\n",
       "      <td>0.159302</td>\n",
       "      <td>0.170053</td>\n",
       "      <td>0.006513</td>\n",
       "      <td>0.157377</td>\n",
       "      <td>0.121162</td>\n",
       "      <td>0.110593</td>\n",
       "    </tr>\n",
       "  </tbody>\n",
       "</table>\n",
       "</div>"
      ],
      "text/plain": [
       "   team_id_b  team_id_p    inning       top  at_bat_num  pcount_at_bat  \\\n",
       "0   0.001320   0.017652 -0.028425 -0.003284   -0.028515       0.008534   \n",
       "1   0.009401  -0.034242  0.041665  0.000819    0.042217       0.006816   \n",
       "2  -0.002134  -0.000609 -0.001568  0.003599   -0.002438       0.176036   \n",
       "3  -0.009260   0.002557  0.423391 -0.013241    0.444645       0.086128   \n",
       "4   0.001304  -0.004137  0.150961 -0.013772    0.159302       0.170053   \n",
       "\n",
       "   pcount_pitcher     balls   strikes     fouls  \n",
       "0        0.045205 -0.021584  0.037520  0.018526  \n",
       "1        0.010878 -0.008925  0.020200  0.013741  \n",
       "2        0.026166  0.129326  0.156161  0.133794  \n",
       "3       -0.020759  0.054497  0.084946  0.072030  \n",
       "4        0.006513  0.157377  0.121162  0.110593  "
      ]
     },
     "execution_count": 108,
     "metadata": {},
     "output_type": "execute_result"
    }
   ],
   "source": [
    "components_50.iloc[:,:10].head()"
   ]
  },
  {
   "cell_type": "code",
   "execution_count": 109,
   "metadata": {},
   "outputs": [
    {
     "data": {
      "text/html": [
       "<div>\n",
       "<style>\n",
       "    .dataframe thead tr:only-child th {\n",
       "        text-align: right;\n",
       "    }\n",
       "\n",
       "    .dataframe thead th {\n",
       "        text-align: left;\n",
       "    }\n",
       "\n",
       "    .dataframe tbody tr th {\n",
       "        vertical-align: top;\n",
       "    }\n",
       "</style>\n",
       "<table border=\"1\" class=\"dataframe\">\n",
       "  <thead>\n",
       "    <tr style=\"text-align: right;\">\n",
       "      <th></th>\n",
       "      <th>outs</th>\n",
       "      <th>is_final_pitch</th>\n",
       "      <th>final_balls</th>\n",
       "      <th>final_strikes</th>\n",
       "      <th>final_outs</th>\n",
       "      <th>b_height</th>\n",
       "      <th>pitcher_id</th>\n",
       "      <th>away_team_runs</th>\n",
       "      <th>home_team_runs</th>\n",
       "      <th>score</th>\n",
       "    </tr>\n",
       "  </thead>\n",
       "  <tbody>\n",
       "    <tr>\n",
       "      <th>0</th>\n",
       "      <td>0.010016</td>\n",
       "      <td>0.004771</td>\n",
       "      <td>-0.010589</td>\n",
       "      <td>0.018128</td>\n",
       "      <td>0.011406</td>\n",
       "      <td>0.005648</td>\n",
       "      <td>-0.030159</td>\n",
       "      <td>-0.019783</td>\n",
       "      <td>-0.015810</td>\n",
       "      <td>0.000562</td>\n",
       "    </tr>\n",
       "    <tr>\n",
       "      <th>1</th>\n",
       "      <td>0.010677</td>\n",
       "      <td>0.012145</td>\n",
       "      <td>-0.002303</td>\n",
       "      <td>-0.008034</td>\n",
       "      <td>0.008460</td>\n",
       "      <td>0.003175</td>\n",
       "      <td>-0.049335</td>\n",
       "      <td>0.023343</td>\n",
       "      <td>0.021821</td>\n",
       "      <td>0.003733</td>\n",
       "    </tr>\n",
       "    <tr>\n",
       "      <th>2</th>\n",
       "      <td>-0.008434</td>\n",
       "      <td>0.374554</td>\n",
       "      <td>-0.204493</td>\n",
       "      <td>-0.030640</td>\n",
       "      <td>0.031853</td>\n",
       "      <td>-0.020435</td>\n",
       "      <td>-0.006654</td>\n",
       "      <td>-0.001508</td>\n",
       "      <td>-0.002441</td>\n",
       "      <td>0.026120</td>\n",
       "    </tr>\n",
       "    <tr>\n",
       "      <th>3</th>\n",
       "      <td>0.065810</td>\n",
       "      <td>-0.069370</td>\n",
       "      <td>0.026434</td>\n",
       "      <td>0.189284</td>\n",
       "      <td>0.086218</td>\n",
       "      <td>0.005207</td>\n",
       "      <td>0.038015</td>\n",
       "      <td>0.300807</td>\n",
       "      <td>0.293127</td>\n",
       "      <td>-0.030906</td>\n",
       "    </tr>\n",
       "    <tr>\n",
       "      <th>4</th>\n",
       "      <td>-0.004986</td>\n",
       "      <td>0.209758</td>\n",
       "      <td>0.173197</td>\n",
       "      <td>-0.231230</td>\n",
       "      <td>-0.083223</td>\n",
       "      <td>-0.011808</td>\n",
       "      <td>0.016924</td>\n",
       "      <td>0.106596</td>\n",
       "      <td>0.107067</td>\n",
       "      <td>0.064043</td>\n",
       "    </tr>\n",
       "  </tbody>\n",
       "</table>\n",
       "</div>"
      ],
      "text/plain": [
       "       outs  is_final_pitch  final_balls  final_strikes  final_outs  b_height  \\\n",
       "0  0.010016        0.004771    -0.010589       0.018128    0.011406  0.005648   \n",
       "1  0.010677        0.012145    -0.002303      -0.008034    0.008460  0.003175   \n",
       "2 -0.008434        0.374554    -0.204493      -0.030640    0.031853 -0.020435   \n",
       "3  0.065810       -0.069370     0.026434       0.189284    0.086218  0.005207   \n",
       "4 -0.004986        0.209758     0.173197      -0.231230   -0.083223 -0.011808   \n",
       "\n",
       "   pitcher_id  away_team_runs  home_team_runs     score  \n",
       "0   -0.030159       -0.019783       -0.015810  0.000562  \n",
       "1   -0.049335        0.023343        0.021821  0.003733  \n",
       "2   -0.006654       -0.001508       -0.002441  0.026120  \n",
       "3    0.038015        0.300807        0.293127 -0.030906  \n",
       "4    0.016924        0.106596        0.107067  0.064043  "
      ]
     },
     "execution_count": 109,
     "metadata": {},
     "output_type": "execute_result"
    }
   ],
   "source": [
    "components_50.iloc[:,10:20].head()"
   ]
  },
  {
   "cell_type": "code",
   "execution_count": 110,
   "metadata": {},
   "outputs": [
    {
     "data": {
      "text/html": [
       "<div>\n",
       "<style>\n",
       "    .dataframe thead tr:only-child th {\n",
       "        text-align: right;\n",
       "    }\n",
       "\n",
       "    .dataframe thead th {\n",
       "        text-align: left;\n",
       "    }\n",
       "\n",
       "    .dataframe tbody tr th {\n",
       "        vertical-align: top;\n",
       "    }\n",
       "</style>\n",
       "<table border=\"1\" class=\"dataframe\">\n",
       "  <thead>\n",
       "    <tr style=\"text-align: right;\">\n",
       "      <th></th>\n",
       "      <th>pitch_id</th>\n",
       "      <th>x</th>\n",
       "      <th>y</th>\n",
       "      <th>sv_id</th>\n",
       "      <th>start_speed</th>\n",
       "      <th>end_speed</th>\n",
       "      <th>sz_top</th>\n",
       "      <th>sz_bot</th>\n",
       "      <th>pfx_x</th>\n",
       "      <th>pfx_z</th>\n",
       "    </tr>\n",
       "  </thead>\n",
       "  <tbody>\n",
       "    <tr>\n",
       "      <th>0</th>\n",
       "      <td>-0.030118</td>\n",
       "      <td>-0.030590</td>\n",
       "      <td>0.064656</td>\n",
       "      <td>0.002006</td>\n",
       "      <td>-0.318903</td>\n",
       "      <td>-0.307867</td>\n",
       "      <td>0.002907</td>\n",
       "      <td>-0.004306</td>\n",
       "      <td>0.219889</td>\n",
       "      <td>-0.268117</td>\n",
       "    </tr>\n",
       "    <tr>\n",
       "      <th>1</th>\n",
       "      <td>0.041245</td>\n",
       "      <td>0.048662</td>\n",
       "      <td>0.048382</td>\n",
       "      <td>-0.003902</td>\n",
       "      <td>-0.136741</td>\n",
       "      <td>-0.125062</td>\n",
       "      <td>-0.002558</td>\n",
       "      <td>0.007369</td>\n",
       "      <td>-0.277411</td>\n",
       "      <td>-0.198538</td>\n",
       "    </tr>\n",
       "    <tr>\n",
       "      <th>2</th>\n",
       "      <td>-0.001357</td>\n",
       "      <td>0.040742</td>\n",
       "      <td>-0.094850</td>\n",
       "      <td>0.004048</td>\n",
       "      <td>0.002879</td>\n",
       "      <td>0.002239</td>\n",
       "      <td>-0.046220</td>\n",
       "      <td>-0.020846</td>\n",
       "      <td>0.001045</td>\n",
       "      <td>-0.014264</td>\n",
       "    </tr>\n",
       "    <tr>\n",
       "      <th>3</th>\n",
       "      <td>0.446854</td>\n",
       "      <td>-0.022228</td>\n",
       "      <td>-0.016291</td>\n",
       "      <td>0.013752</td>\n",
       "      <td>0.024862</td>\n",
       "      <td>0.021176</td>\n",
       "      <td>-0.006149</td>\n",
       "      <td>-0.004275</td>\n",
       "      <td>0.049478</td>\n",
       "      <td>-0.034784</td>\n",
       "    </tr>\n",
       "    <tr>\n",
       "      <th>4</th>\n",
       "      <td>0.161405</td>\n",
       "      <td>-0.028093</td>\n",
       "      <td>0.047669</td>\n",
       "      <td>-0.003543</td>\n",
       "      <td>0.019878</td>\n",
       "      <td>0.020622</td>\n",
       "      <td>-0.002767</td>\n",
       "      <td>0.001542</td>\n",
       "      <td>0.020588</td>\n",
       "      <td>0.020607</td>\n",
       "    </tr>\n",
       "  </tbody>\n",
       "</table>\n",
       "</div>"
      ],
      "text/plain": [
       "   pitch_id         x         y     sv_id  start_speed  end_speed    sz_top  \\\n",
       "0 -0.030118 -0.030590  0.064656  0.002006    -0.318903  -0.307867  0.002907   \n",
       "1  0.041245  0.048662  0.048382 -0.003902    -0.136741  -0.125062 -0.002558   \n",
       "2 -0.001357  0.040742 -0.094850  0.004048     0.002879   0.002239 -0.046220   \n",
       "3  0.446854 -0.022228 -0.016291  0.013752     0.024862   0.021176 -0.006149   \n",
       "4  0.161405 -0.028093  0.047669 -0.003543     0.019878   0.020622 -0.002767   \n",
       "\n",
       "     sz_bot     pfx_x     pfx_z  \n",
       "0 -0.004306  0.219889 -0.268117  \n",
       "1  0.007369 -0.277411 -0.198538  \n",
       "2 -0.020846  0.001045 -0.014264  \n",
       "3 -0.004275  0.049478 -0.034784  \n",
       "4  0.001542  0.020588  0.020607  "
      ]
     },
     "execution_count": 110,
     "metadata": {},
     "output_type": "execute_result"
    }
   ],
   "source": [
    "components_50.iloc[:,20:30].head()"
   ]
  },
  {
   "cell_type": "markdown",
   "metadata": {},
   "source": [
    "Now that we've seen about the top half of our most important components, we'll run our previous random forest model to see if any improvements can come from it."
   ]
  },
  {
   "cell_type": "code",
   "execution_count": 111,
   "metadata": {},
   "outputs": [
    {
     "data": {
      "text/plain": [
       "RandomForestClassifier(bootstrap=True, class_weight=None, criterion='gini',\n",
       "            max_depth=None, max_features='auto', max_leaf_nodes=None,\n",
       "            min_impurity_decrease=0.0, min_impurity_split=None,\n",
       "            min_samples_leaf=1, min_samples_split=2,\n",
       "            min_weight_fraction_leaf=0.0, n_estimators=10, n_jobs=None,\n",
       "            oob_score=False, random_state=None, verbose=0,\n",
       "            warm_start=False)"
      ]
     },
     "execution_count": 111,
     "metadata": {},
     "output_type": "execute_result"
    }
   ],
   "source": [
    "# Run random forest model with 50 principal components\n",
    "rf.fit(X_train_pca,y_train)"
   ]
  },
  {
   "cell_type": "code",
   "execution_count": 112,
   "metadata": {
    "collapsed": true
   },
   "outputs": [],
   "source": [
    "y_pred_pca = rf.predict(X_test_pca)"
   ]
  },
  {
   "cell_type": "code",
   "execution_count": 114,
   "metadata": {},
   "outputs": [
    {
     "data": {
      "text/plain": [
       "array(['SL', 'FF', 'FF', 'FT', 'FF', 'CU', 'FF', 'FT', 'SI', 'SI', 'FT',\n",
       "       'FF', 'FF', 'CH', 'FF', 'IN', 'FF', 'FT', 'SI', 'SI', 'FF', 'CU',\n",
       "       'FT', 'SL', 'SL', 'FF', 'SI', 'FT', 'FF', 'SI', 'SL', 'FT', 'CU',\n",
       "       'FF', 'FF', 'CH', 'CU', 'FF', 'CH', 'SI', 'CH', 'CH', 'FF', 'FF',\n",
       "       'FF', 'FF', 'CU', 'CU', 'FF', 'CH'], dtype=object)"
      ]
     },
     "execution_count": 114,
     "metadata": {},
     "output_type": "execute_result"
    }
   ],
   "source": [
    "y_pred_pca[:50]"
   ]
  },
  {
   "cell_type": "code",
   "execution_count": 116,
   "metadata": {},
   "outputs": [
    {
     "data": {
      "text/plain": [
       "142283    SL\n",
       "370280    FF\n",
       "372117    FF\n",
       "439747    FF\n",
       "144139    FF\n",
       "13440     CU\n",
       "103932    FF\n",
       "358947    FF\n",
       "3764      CH\n",
       "334264    SI\n",
       "333415    FT\n",
       "500245    FF\n",
       "427965    FF\n",
       "250268    CH\n",
       "85497     FF\n",
       "Name: pitch_type, dtype: object"
      ]
     },
     "execution_count": 116,
     "metadata": {},
     "output_type": "execute_result"
    }
   ],
   "source": [
    "y_test[:15]"
   ]
  },
  {
   "cell_type": "code",
   "execution_count": 117,
   "metadata": {},
   "outputs": [
    {
     "name": "stderr",
     "output_type": "stream",
     "text": [
      "/Users/peyjmonahmad/anaconda3/lib/python3.6/site-packages/sklearn/metrics/classification.py:1143: UndefinedMetricWarning: Precision and F-score are ill-defined and being set to 0.0 in labels with no predicted samples.\n",
      "  'precision', 'predicted', average, warn_for)\n"
     ]
    },
    {
     "name": "stdout",
     "output_type": "stream",
     "text": [
      "              precision    recall  f1-score   support\n",
      "\n",
      "          CH       0.68      0.80      0.74     14528\n",
      "          CU       0.76      0.84      0.80     11276\n",
      "          EP       0.00      0.00      0.00        27\n",
      "          FA       0.00      0.00      0.00        41\n",
      "          FC       0.55      0.31      0.40      8340\n",
      "          FF       0.74      0.88      0.81     47709\n",
      "          FO       0.00      0.00      0.00        66\n",
      "          FS       0.33      0.05      0.09      2101\n",
      "          FT       0.49      0.37      0.42     16211\n",
      "          IN       1.00      1.00      1.00       812\n",
      "          KC       0.41      0.05      0.08      1698\n",
      "          KN       0.88      0.37      0.52       890\n",
      "          PO       1.00      0.99      1.00       112\n",
      "          SC       0.67      0.08      0.15        24\n",
      "          SI       0.62      0.49      0.55     17548\n",
      "          SL       0.74      0.81      0.77     21951\n",
      "          UN       0.00      0.00      0.00         3\n",
      "\n",
      "   micro avg       0.70      0.70      0.70    143337\n",
      "   macro avg       0.52      0.41      0.43    143337\n",
      "weighted avg       0.67      0.70      0.67    143337\n",
      "\n"
     ]
    }
   ],
   "source": [
    "print(classification_report(y_test,rf.predict(X_test_pca)))"
   ]
  },
  {
   "cell_type": "markdown",
   "metadata": {},
   "source": [
    "After seeing the classification report, it is clear that reducing the dimensionality drastically decreased the scores of our model at all levels.\n",
    "\n",
    "This is a sign that a very high percentage of the original features are relevant and important for accurately predicting the type of pitch."
   ]
  },
  {
   "cell_type": "markdown",
   "metadata": {},
   "source": [
    "## Final thoughts and future steps\n",
    "\n",
    "Two main classifications were performed in this process, as well as dimensionality reduction, with one algorithm performing much better than others.  Random forest was able to generalize pretty well and predict the type of pitch with a somewhat high level of confidence.  \n",
    "\n",
    "Due to time contraints, I was not able to utilize all the techniques and algorithms at my disposal.  In the future, I would take the time to search for optimal paramters by using grid search or randomized search.  A couple classifiers that I would highly consider using are support vector machine and gradient boosting classifier.  I suspect these algorithms will generalize at a high level due to the nature of this data, but they are both computationally expensive and take several steps of hyperparameter tuning.  Lastly, I would also like dedicate more time to exploratory data analysis, and get a better feel for the data and distributions throughout the variables.\n",
    "\n",
    "Ultimately, I would measure success by evaluating the macro and weighted average of F1-score, as well as precision and recall.  These metrics explain performance well, and are easily extended for multiclassification problems like this."
   ]
  },
  {
   "cell_type": "code",
   "execution_count": null,
   "metadata": {
    "collapsed": true
   },
   "outputs": [],
   "source": []
  }
 ],
 "metadata": {
  "kernelspec": {
   "display_name": "Python 3",
   "language": "python",
   "name": "python3"
  },
  "language_info": {
   "codemirror_mode": {
    "name": "ipython",
    "version": 3
   },
   "file_extension": ".py",
   "mimetype": "text/x-python",
   "name": "python",
   "nbconvert_exporter": "python",
   "pygments_lexer": "ipython3",
   "version": "3.6.8"
  }
 },
 "nbformat": 4,
 "nbformat_minor": 2
}
